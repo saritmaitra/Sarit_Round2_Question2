{
  "nbformat": 4,
  "nbformat_minor": 0,
  "metadata": {
    "colab": {
      "name": "NLP_NER_CodeBasedApproach.ipynb",
      "provenance": [],
      "authorship_tag": "ABX9TyNpAjVSDi0ro4ZKh8OfZHPk",
      "include_colab_link": true
    },
    "kernelspec": {
      "name": "python3",
      "display_name": "Python 3"
    },
    "language_info": {
      "name": "python"
    }
  },
  "cells": [
    {
      "cell_type": "markdown",
      "metadata": {
        "id": "view-in-github",
        "colab_type": "text"
      },
      "source": [
        "<a href=\"https://colab.research.google.com/github/saritmaitra/Sarit_Round2_Question2/blob/main/NLP_NER_CodeBasedApproach.ipynb\" target=\"_parent\"><img src=\"https://colab.research.google.com/assets/colab-badge.svg\" alt=\"Open In Colab\"/></a>"
      ]
    },
    {
      "cell_type": "markdown",
      "metadata": {
        "id": "K_1S7Woq6b48"
      },
      "source": [
        "@author: sarit maitra"
      ]
    },
    {
      "cell_type": "code",
      "metadata": {
        "id": "tYts6bNzQ0tp"
      },
      "source": [
        "pip install ipython-autotime"
      ],
      "execution_count": null,
      "outputs": []
    },
    {
      "cell_type": "markdown",
      "metadata": {
        "id": "JWywDGK46myg"
      },
      "source": [
        "## **Importing relevant libraries:**"
      ]
    },
    {
      "cell_type": "code",
      "metadata": {
        "id": "Odm3XxNcivye",
        "colab": {
          "base_uri": "https://localhost:8080/"
        },
        "outputId": "1bd63f9b-20b5-4802-e4c4-49f2c4850841"
      },
      "source": [
        "%load_ext autotime\n",
        "\n",
        "import numpy as np\n",
        "import pandas as pd\n",
        "import matplotlib.pyplot as plt\n",
        "import spacy\n",
        "import re\n",
        "import plac  #  wrapper over argparse\n",
        "import random\n",
        "import en_core_web_sm\n",
        "import pprint\n",
        "import string\n",
        "string.punctuation\n",
        "limit = 0\n",
        "import subprocess\n",
        "from string import punctuation\n",
        "import unicodedata\n",
        "import json, csv\n",
        "\n",
        "from pandas import DataFrame, concat\n",
        "from joblib import Parallel, delayed\n",
        "from spacy import displacy\n",
        "from collections import Counter\n",
        "from pathlib import Path\n",
        "from tqdm import tqdm  # loading bar\n",
        "from IPython.display import display\n",
        "from tqdm import tqdm \n",
        "from spacy.lang.en import STOP_WORDS\n",
        "from tqdm import tqdm\n",
        "from datetime import datetime\n",
        "from bs4 import BeautifulSoup\n",
        "from spacy.lang.en import English\n",
        "from spacy.pipeline import EntityRuler\n",
        "from itertools import groupby \n",
        "from collections import OrderedDict\n",
        "from pathlib import Path\n",
        "from sklearn.model_selection import train_test_split\n",
        "\n",
        "from __future__ import unicode_literals, print_function\n"
      ],
      "execution_count": 2,
      "outputs": [
        {
          "output_type": "stream",
          "text": [
            "time: 898 ms (started: 2021-04-11 14:10:51 +00:00)\n"
          ],
          "name": "stdout"
        }
      ]
    },
    {
      "cell_type": "code",
      "metadata": {
        "colab": {
          "base_uri": "https://localhost:8080/",
          "height": 147
        },
        "id": "JXzgn9hnjJlh",
        "outputId": "1dadb78f-8b53-4186-eaaa-9e9c569138e0"
      },
      "source": [
        "df = pd.read_csv('news_content.csv', sep=',',error_bad_lines=False)\n",
        "df.head(1)"
      ],
      "execution_count": 3,
      "outputs": [
        {
          "output_type": "stream",
          "text": [
            "b'Skipping line 149: expected 6 fields, saw 7\\nSkipping line 150: expected 6 fields, saw 7\\nSkipping line 151: expected 6 fields, saw 7\\nSkipping line 152: expected 6 fields, saw 7\\nSkipping line 153: expected 6 fields, saw 7\\nSkipping line 154: expected 6 fields, saw 7\\nSkipping line 155: expected 6 fields, saw 7\\nSkipping line 156: expected 6 fields, saw 7\\nSkipping line 157: expected 6 fields, saw 7\\nSkipping line 158: expected 6 fields, saw 7\\nSkipping line 159: expected 6 fields, saw 7\\nSkipping line 160: expected 6 fields, saw 7\\nSkipping line 161: expected 6 fields, saw 7\\nSkipping line 162: expected 6 fields, saw 7\\nSkipping line 163: expected 6 fields, saw 7\\nSkipping line 164: expected 6 fields, saw 7\\nSkipping line 165: expected 6 fields, saw 7\\nSkipping line 171: expected 6 fields, saw 7\\nSkipping line 172: expected 6 fields, saw 7\\nSkipping line 173: expected 6 fields, saw 7\\nSkipping line 174: expected 6 fields, saw 7\\nSkipping line 175: expected 6 fields, saw 7\\nSkipping line 176: expected 6 fields, saw 7\\nSkipping line 177: expected 6 fields, saw 7\\nSkipping line 178: expected 6 fields, saw 7\\n'\n"
          ],
          "name": "stderr"
        },
        {
          "output_type": "execute_result",
          "data": {
            "text/html": [
              "<div>\n",
              "<style scoped>\n",
              "    .dataframe tbody tr th:only-of-type {\n",
              "        vertical-align: middle;\n",
              "    }\n",
              "\n",
              "    .dataframe tbody tr th {\n",
              "        vertical-align: top;\n",
              "    }\n",
              "\n",
              "    .dataframe thead th {\n",
              "        text-align: right;\n",
              "    }\n",
              "</style>\n",
              "<table border=\"1\" class=\"dataframe\">\n",
              "  <thead>\n",
              "    <tr style=\"text-align: right;\">\n",
              "      <th></th>\n",
              "      <th>content</th>\n",
              "      <th>hyperlink</th>\n",
              "      <th>isFile</th>\n",
              "      <th>origin</th>\n",
              "      <th>timestamp</th>\n",
              "      <th>title</th>\n",
              "    </tr>\n",
              "  </thead>\n",
              "  <tbody>\n",
              "    <tr>\n",
              "      <th>0</th>\n",
              "      <td>Cookies help us deliver our services. By using...</td>\n",
              "      <td>https://www.basf.com/sg/en/media/news-releases...</td>\n",
              "      <td>False</td>\n",
              "      <td>BASF</td>\n",
              "      <td>09 September 2020</td>\n",
              "      <td>BASF brings the farm to customers with launch ...</td>\n",
              "    </tr>\n",
              "  </tbody>\n",
              "</table>\n",
              "</div>"
            ],
            "text/plain": [
              "                                             content  ...                                              title\n",
              "0  Cookies help us deliver our services. By using...  ...  BASF brings the farm to customers with launch ...\n",
              "\n",
              "[1 rows x 6 columns]"
            ]
          },
          "metadata": {
            "tags": []
          },
          "execution_count": 3
        },
        {
          "output_type": "stream",
          "text": [
            "time: 213 ms (started: 2021-04-11 14:10:51 +00:00)\n"
          ],
          "name": "stdout"
        }
      ]
    },
    {
      "cell_type": "markdown",
      "metadata": {
        "id": "gVd-FmwFK-fW"
      },
      "source": [
        "## **Visualization:**"
      ]
    },
    {
      "cell_type": "code",
      "metadata": {
        "colab": {
          "base_uri": "https://localhost:8080/",
          "height": 391
        },
        "id": "_fWwNI_yKcAO",
        "outputId": "18db0459-bc58-494c-f4ac-356e16e2b90c"
      },
      "source": [
        "topics = df['origin'].value_counts().to_frame()[:30]\n",
        "topics.sort_values(by='origin', ascending=True).plot(\n",
        "    kind = 'barh', colormap='jet', legend=False, figsize=(10, 6));\n",
        "plt.grid(True)"
      ],
      "execution_count": 4,
      "outputs": [
        {
          "output_type": "display_data",
          "data": {
            "image/png": "[encoded data removed]",
            "text/plain": [
              "<Figure size 720x432 with 1 Axes>"
            ]
          },
          "metadata": {
            "tags": [],
            "needs_background": "light"
          }
        },
        {
          "output_type": "stream",
          "text": [
            "time: 397 ms (started: 2021-04-11 14:10:52 +00:00)\n"
          ],
          "name": "stdout"
        }
      ]
    },
    {
      "cell_type": "code",
      "metadata": {
        "colab": {
          "base_uri": "https://localhost:8080/",
          "height": 282
        },
        "id": "aTyMQgcFK6Eu",
        "outputId": "4cdd1547-1ddb-47cd-b193-02e327353a6a"
      },
      "source": [
        "def plot_character_length_histogram(text):\n",
        "    text.str.len().\\\n",
        "        hist()\n",
        "\n",
        "plot_character_length_histogram(df['content'])"
      ],
      "execution_count": 5,
      "outputs": [
        {
          "output_type": "display_data",
          "data": {
            "image/png": "[encoded data removed]",
            "text/plain": [
              "<Figure size 432x288 with 1 Axes>"
            ]
          },
          "metadata": {
            "tags": [],
            "needs_background": "light"
          }
        },
        {
          "output_type": "stream",
          "text": [
            "time: 236 ms (started: 2021-04-11 14:10:52 +00:00)\n"
          ],
          "name": "stdout"
        }
      ]
    },
    {
      "cell_type": "code",
      "metadata": {
        "colab": {
          "base_uri": "https://localhost:8080/",
          "height": 405
        },
        "id": "U2xiS5j2Klou",
        "outputId": "fd272cde-5f7d-4066-890d-aac11f4e8409"
      },
      "source": [
        "top_2000_topics =  df.loc[:2000, ('origin')].value_counts().to_frame()[:15]\n",
        "top_2000_topics.sort_values(by='origin', ascending=True).plot(\n",
        "    kind='barh', colormap='jet', legend=False, figsize=(10, 6));\n",
        "\n",
        "plt.xlabel('No. of articles');\n",
        "plt.grid(True)"
      ],
      "execution_count": 6,
      "outputs": [
        {
          "output_type": "display_data",
          "data": {
            "image/png": "[encoded data removed]",
            "text/plain": [
              "<Figure size 720x432 with 1 Axes>"
            ]
          },
          "metadata": {
            "tags": [],
            "needs_background": "light"
          }
        },
        {
          "output_type": "stream",
          "text": [
            "time: 351 ms (started: 2021-04-11 14:10:52 +00:00)\n"
          ],
          "name": "stdout"
        }
      ]
    },
    {
      "cell_type": "markdown",
      "metadata": {
        "id": "jDDtHetALIIO"
      },
      "source": [
        "## **Missing values:**"
      ]
    },
    {
      "cell_type": "code",
      "metadata": {
        "colab": {
          "base_uri": "https://localhost:8080/"
        },
        "id": "27RyeWfKJpgw",
        "outputId": "be123cc6-71ab-40ea-d899-d9163ee9e541"
      },
      "source": [
        "df.isnull().sum() # Checking null values"
      ],
      "execution_count": 7,
      "outputs": [
        {
          "output_type": "execute_result",
          "data": {
            "text/plain": [
              "content      105\n",
              "hyperlink      0\n",
              "isFile         0\n",
              "origin       111\n",
              "timestamp      4\n",
              "title          1\n",
              "dtype: int64"
            ]
          },
          "metadata": {
            "tags": []
          },
          "execution_count": 7
        },
        {
          "output_type": "stream",
          "text": [
            "time: 14.5 ms (started: 2021-04-11 14:10:53 +00:00)\n"
          ],
          "name": "stdout"
        }
      ]
    },
    {
      "cell_type": "code",
      "metadata": {
        "colab": {
          "base_uri": "https://localhost:8080/"
        },
        "id": "m51AkwhZJwJ4",
        "outputId": "0c6215a3-748b-4afa-b591-7b1b4c41bfd6"
      },
      "source": [
        "df.dropna(inplace=True) # dropping all nan values\n",
        "df.info()               # sanity check"
      ],
      "execution_count": 8,
      "outputs": [
        {
          "output_type": "stream",
          "text": [
            "<class 'pandas.core.frame.DataFrame'>\n",
            "Int64Index: 3504 entries, 0 to 3724\n",
            "Data columns (total 6 columns):\n",
            " #   Column     Non-Null Count  Dtype \n",
            "---  ------     --------------  ----- \n",
            " 0   content    3504 non-null   object\n",
            " 1   hyperlink  3504 non-null   object\n",
            " 2   isFile     3504 non-null   bool  \n",
            " 3   origin     3504 non-null   object\n",
            " 4   timestamp  3504 non-null   object\n",
            " 5   title      3504 non-null   object\n",
            "dtypes: bool(1), object(5)\n",
            "memory usage: 167.7+ KB\n",
            "time: 35.8 ms (started: 2021-04-11 14:10:53 +00:00)\n"
          ],
          "name": "stdout"
        }
      ]
    },
    {
      "cell_type": "markdown",
      "metadata": {
        "id": "SdJThbs8KTt2"
      },
      "source": [
        "## **Distribution of articles in the dataset:**"
      ]
    },
    {
      "cell_type": "code",
      "metadata": {
        "colab": {
          "base_uri": "https://localhost:8080/"
        },
        "id": "o5dJaM_eKFye",
        "outputId": "5b359abe-0fc3-47aa-f3b5-957ff723fbdf"
      },
      "source": [
        "print('The pre-processed data has {} news articles from {} unique topics'\\\n",
        "      .format(df.shape[0], df['content'].nunique()))"
      ],
      "execution_count": 9,
      "outputs": [
        {
          "output_type": "stream",
          "text": [
            "The pre-processed data has 3504 news articles from 3314 unique topics\n",
            "time: 82.1 ms (started: 2021-04-11 14:10:53 +00:00)\n"
          ],
          "name": "stdout"
        }
      ]
    },
    {
      "cell_type": "markdown",
      "metadata": {
        "id": "hcsToFK9Lj6-"
      },
      "source": [
        "## **Collecting relevant columns:**"
      ]
    },
    {
      "cell_type": "code",
      "metadata": {
        "colab": {
          "base_uri": "https://localhost:8080/",
          "height": 157
        },
        "id": "a-B4rNElLic_",
        "outputId": "6976056d-ad62-47ea-c822-a835d7b6de76"
      },
      "source": [
        "df = df[['timestamp', 'title', 'hyperlink', 'content']]\n",
        "\n",
        "# rename timestamp -> date_of_news\n",
        "df.rename(columns = {'timestamp': 'date_of_news'}, inplace=True)\n",
        "df.head(2) # sanity check"
      ],
      "execution_count": 10,
      "outputs": [
        {
          "output_type": "execute_result",
          "data": {
            "text/html": [
              "<div>\n",
              "<style scoped>\n",
              "    .dataframe tbody tr th:only-of-type {\n",
              "        vertical-align: middle;\n",
              "    }\n",
              "\n",
              "    .dataframe tbody tr th {\n",
              "        vertical-align: top;\n",
              "    }\n",
              "\n",
              "    .dataframe thead th {\n",
              "        text-align: right;\n",
              "    }\n",
              "</style>\n",
              "<table border=\"1\" class=\"dataframe\">\n",
              "  <thead>\n",
              "    <tr style=\"text-align: right;\">\n",
              "      <th></th>\n",
              "      <th>date_of_news</th>\n",
              "      <th>title</th>\n",
              "      <th>hyperlink</th>\n",
              "      <th>content</th>\n",
              "    </tr>\n",
              "  </thead>\n",
              "  <tbody>\n",
              "    <tr>\n",
              "      <th>0</th>\n",
              "      <td>09 September 2020</td>\n",
              "      <td>BASF brings the farm to customers with launch ...</td>\n",
              "      <td>https://www.basf.com/sg/en/media/news-releases...</td>\n",
              "      <td>Cookies help us deliver our services. By using...</td>\n",
              "    </tr>\n",
              "    <tr>\n",
              "      <th>1</th>\n",
              "      <td>14 August 2020</td>\n",
              "      <td>BASF enhances R&amp;D capabilities with the acquis...</td>\n",
              "      <td>https://www.basf.com/sg/en/media/news-releases...</td>\n",
              "      <td>Cookies help us deliver our services. By using...</td>\n",
              "    </tr>\n",
              "  </tbody>\n",
              "</table>\n",
              "</div>"
            ],
            "text/plain": [
              "        date_of_news  ...                                            content\n",
              "0  09 September 2020  ...  Cookies help us deliver our services. By using...\n",
              "1     14 August 2020  ...  Cookies help us deliver our services. By using...\n",
              "\n",
              "[2 rows x 4 columns]"
            ]
          },
          "metadata": {
            "tags": []
          },
          "execution_count": 10
        },
        {
          "output_type": "stream",
          "text": [
            "time: 29.9 ms (started: 2021-04-11 14:10:53 +00:00)\n"
          ],
          "name": "stdout"
        }
      ]
    },
    {
      "cell_type": "markdown",
      "metadata": {
        "id": "GcXpSoe2RVMg"
      },
      "source": [
        "##**Converting to JSON**"
      ]
    },
    {
      "cell_type": "code",
      "metadata": {
        "colab": {
          "base_uri": "https://localhost:8080/"
        },
        "id": "sYEN6EXoRUT1",
        "outputId": "8a505361-0279-438e-b9b1-737a382b210b"
      },
      "source": [
        "inference = []\n",
        "for (date_of_news, title, hyperlink, content), bag in df.groupby(['date_of_news', 'title', 'hyperlink', 'content']):\n",
        "    contents_df = bag.drop(['date_of_news', 'title', 'hyperlink', 'content'], axis=1)\n",
        "    subset = [OrderedDict(row) for i,row in contents_df.iterrows()]\n",
        "    inference.append(OrderedDict([(\"date_of_news\", date_of_news),\n",
        "                                (\"title\", title),\n",
        "                                (\"hyperlink\", hyperlink),\n",
        "                                ('content', content)\n",
        "                                ]))\n",
        "\n",
        "print (json.dumps(inference[0], indent=4))\n",
        "\n",
        "with open('news_content.json', 'w') as outfile:\n",
        "   outfile.write(json.dumps(inference, indent=4))"
      ],
      "execution_count": 11,
      "outputs": [
        {
          "output_type": "stream",
          "text": [
            "{\n",
            "    \"date_of_news\": \"01 Apr 2010\",\n",
            "    \"title\": \"Royal DSM N.V. Supervisory Board announcement\",\n",
            "    \"hyperlink\": \"https://www.dsm.com/corporate/news/news-archive/2010/18-10-dsm-supervisory-board-announcement.html\",\n",
            "    \"content\": \"Heerlen, NL, 01 Apr 2010 16:15 CEST Royal DSM N.V., the global Life Sciences and Materials Sciences company headquartered in the Netherlands, today announces that Mrs. Louise Gunning-Schepers will step down as member of the DSM Supervisory Board with effect from 1 September 2010 in connection with her appointment as president of the Health Council of the Netherlands, which was announced earlier today. Mrs. Gunning-Schepers (58, Dutch nationality) is currently Chairman of the Executive Board of the Academic Medical Center and Dean of the Medical Faculty of the University of Amsterdam. She is due to retire on 1 September 2010 and is expected to take up the post of president of the Health Council of the Netherlands with effect from that date. Mrs. Gunning-Schepers will step down as member of the DSM Supervisory Board with effect from 1 September 2010 as the position of president of the Health Council of the Netherlands cannot be combined with the membership of the DSM Supervisory Board. Although DSM regrets Mrs. Gunning-Schepers\\u2019 departure from the Supervisory Board, the company fully respects this and would like to congratulate her on her appointment. DSM is very grateful for the invaluable contributions Mrs. Gunning-Schepers made during her membership of DSM\\u2019s Supervisory Board. An announcement regarding her replacement will be made in due course. The Health Council of the Netherlands is an independent scientific advisory body whose task is to advise ministers and Parliament in the field of public health and health/healthcare research. Senior Communications Manager +31 45 578 2420  media.contacts@dsm.com Vice President Investor Relations +31 45 578 2864  investor.relations@dsm.com +31 45 578 2420  +31 45 578 2864 \"\n",
            "}\n",
            "time: 2.67 s (started: 2021-04-11 14:10:53 +00:00)\n"
          ],
          "name": "stdout"
        }
      ]
    },
    {
      "cell_type": "markdown",
      "metadata": {
        "id": "iPX3lPrNNw-P"
      },
      "source": [
        "## **Train/Test split:**"
      ]
    },
    {
      "cell_type": "code",
      "metadata": {
        "colab": {
          "base_uri": "https://localhost:8080/"
        },
        "id": "Owr9J2wGNotw",
        "outputId": "cbcb395b-2a55-4491-c82d-bd0c9f2e497a"
      },
      "source": [
        "trainD, testD = train_test_split(df, test_size=0.33, random_state=42)\n",
        "print('Training data:', trainD.shape)\n",
        "print('Test data:', testD.shape)"
      ],
      "execution_count": 12,
      "outputs": [
        {
          "output_type": "stream",
          "text": [
            "Training data: (2347, 4)\n",
            "Test data: (1157, 4)\n",
            "time: 18.4 ms (started: 2021-04-11 14:10:56 +00:00)\n"
          ],
          "name": "stdout"
        }
      ]
    },
    {
      "cell_type": "markdown",
      "metadata": {
        "id": "4XngHXHMMKMv"
      },
      "source": [
        "## **Load sPacy nlp model:**\n",
        "\n",
        " - nlp object contains processing pipeline\n",
        " - includes language-specific rulea for tokennization etc."
      ]
    },
    {
      "cell_type": "code",
      "metadata": {
        "colab": {
          "base_uri": "https://localhost:8080/"
        },
        "id": "qxR3_X9zMJgv",
        "outputId": "0f05f74e-1afd-46a4-a05b-19676d2c2980"
      },
      "source": [
        "# creating nlp object\n",
        "nlp = spacy.load('en')\n",
        "print(nlp.pipe_names)"
      ],
      "execution_count": 13,
      "outputs": [
        {
          "output_type": "stream",
          "text": [
            "['tagger', 'parser', 'ner']\n",
            "time: 857 ms (started: 2021-04-11 14:10:56 +00:00)\n"
          ],
          "name": "stdout"
        }
      ]
    },
    {
      "cell_type": "markdown",
      "metadata": {
        "id": "piHwiJD-NL8H"
      },
      "source": [
        "## **Test on raw data (training data):**"
      ]
    },
    {
      "cell_type": "code",
      "metadata": {
        "colab": {
          "base_uri": "https://localhost:8080/"
        },
        "id": "IcgoiSA_M4Uo",
        "outputId": "2f48d29c-7567-440c-a734-4704cccd1c33"
      },
      "source": [
        "txt = str(trainD.content.values)\n",
        "doc = nlp(txt)\n",
        "\n",
        "entities = []\n",
        "labels = []\n",
        "position_start = []\n",
        "position_end = []\n",
        "\n",
        "for ent in doc.ents:\n",
        "    entities.append(ent)\n",
        "    labels.append(ent.label_)\n",
        "    position_start.append(ent.start_char)\n",
        "    position_end.append(ent.end_char)\n",
        "    \n",
        "df1 = DataFrame({'Entities':entities,'Labels':labels,'Position_Start':position_start, 'Position_End':position_end})\n",
        "print(df1)"
      ],
      "execution_count": 14,
      "outputs": [
        {
          "output_type": "stream",
          "text": [
            "                 Entities    Labels  Position_Start  Position_End\n",
            "0                (Arkema)       ORG             130           136\n",
            "1                    (3D)  CARDINAL             261           263\n",
            "2          (Sumeet, Jain)    PERSON             789           800\n",
            "3                (Arkema)       ORG             846           852\n",
            "4                (Arkema)       ORG             855           861\n",
            "..                    ...       ...             ...           ...\n",
            "477             (Suzanne)    PERSON           29090         29097\n",
            "478           (Mattaboni)    PERSON           29104         29113\n",
            "479                 (610)  CARDINAL           29138         29141\n",
            "480            (MakerBot)       ORG           29177         29185\n",
            "481  (April, 15, ,, 2015)      DATE           29195         29209\n",
            "\n",
            "[482 rows x 4 columns]\n",
            "time: 1.08 s (started: 2021-04-11 14:10:56 +00:00)\n"
          ],
          "name": "stdout"
        }
      ]
    },
    {
      "cell_type": "code",
      "metadata": {
        "colab": {
          "base_uri": "https://localhost:8080/"
        },
        "id": "X6gAUy1hNcCe",
        "outputId": "e6fd7970-529b-499b-cffc-890846dd9905"
      },
      "source": [
        "person_entity = []\n",
        "for ent in doc.ents:\n",
        "    if ent.label_ == 'PERSON':\n",
        "        person_entity.append(ent.text)\n",
        "        \n",
        "person_counts = Counter(person_entity).most_common()\n",
        "df_person = DataFrame(person_counts, columns =['text', 'count'])\n",
        "print(df_person)"
      ],
      "execution_count": 15,
      "outputs": [
        {
          "output_type": "stream",
          "text": [
            "                                                 text  count\n",
            "0                                                BASF      2\n",
            "1                                         Sumeet Jain      1\n",
            "2                                            Sartomer      1\n",
            "3       Prince Saud bin Abdullah bin Thenayan Al-Saud      1\n",
            "4                                     Mohamed Al-Mady      1\n",
            "5                                             Al-Mady      1\n",
            "6   http://www.sabic.com/sustainability\\xa0Samir A...      1\n",
            "7                                               -0.16      1\n",
            "8                                     Rudolf Staudigl      1\n",
            "9                                    WACKER SILICONES      1\n",
            "10                                WACKER BIOSOLUTIONS      1\n",
            "11                                      Matthias Lang      1\n",
            "12                                          Glysantin      1\n",
            "13                                    Kaolin Minerals      1\n",
            "14                                              BASFY      1\n",
            "15                                   Spring Sun Beige      1\n",
            "16                                        Minty Green      1\n",
            "17                                      Treetop Green      1\n",
            "18                                    Breathless Gray      1\n",
            "19                                   Fairytale Purple      1\n",
            "20                                       Mark Schulze      1\n",
            "21                                         Jeff Davis      1\n",
            "22                                        Thingiverse      1\n",
            "23                                         Till Broer      1\n",
            "24                                            Suzanne      1\n",
            "25                                          Mattaboni      1\n",
            "time: 21.5 ms (started: 2021-04-11 14:10:58 +00:00)\n"
          ],
          "name": "stdout"
        }
      ]
    },
    {
      "cell_type": "markdown",
      "metadata": {
        "id": "XU2HawmkOITM"
      },
      "source": [
        "## **Let us clean the data to improve the model:**\n",
        "\n",
        "### ***Text cleaner function:***\n",
        "Objective is to extract relevant text using a regex.\n",
        "\n",
        "I have defined a regex that parses only alphanumeric strings and hyphens (so as to include hyphenated words) that are between a given length (3 and 50). This filters each document down to only meaningful text for the lemmatizer."
      ]
    },
    {
      "cell_type": "code",
      "metadata": {
        "colab": {
          "base_uri": "https://localhost:8080/",
          "height": 203
        },
        "id": "lBy9v7svOPhX",
        "outputId": "f24f8ff4-d725-4d95-a04d-3ca9dce52459"
      },
      "source": [
        "def cleaner(df):\n",
        "    pattern = re.compile(r\"[A-Za-z0-9\\-]{3,50}\")\n",
        "    df['clean'] = df['content'].str.findall(pattern).str.join(' ')\n",
        "    if limit > 0:\n",
        "        return df.iloc[:limit, :].copy()\n",
        "    else:\n",
        "        return df\n",
        "\n",
        "pre_process = cleaner(df)\n",
        "pre_process[['date_of_news', 'title', 'hyperlink', 'clean']].head(3)"
      ],
      "execution_count": 16,
      "outputs": [
        {
          "output_type": "execute_result",
          "data": {
            "text/html": [
              "<div>\n",
              "<style scoped>\n",
              "    .dataframe tbody tr th:only-of-type {\n",
              "        vertical-align: middle;\n",
              "    }\n",
              "\n",
              "    .dataframe tbody tr th {\n",
              "        vertical-align: top;\n",
              "    }\n",
              "\n",
              "    .dataframe thead th {\n",
              "        text-align: right;\n",
              "    }\n",
              "</style>\n",
              "<table border=\"1\" class=\"dataframe\">\n",
              "  <thead>\n",
              "    <tr style=\"text-align: right;\">\n",
              "      <th></th>\n",
              "      <th>date_of_news</th>\n",
              "      <th>title</th>\n",
              "      <th>hyperlink</th>\n",
              "      <th>clean</th>\n",
              "    </tr>\n",
              "  </thead>\n",
              "  <tbody>\n",
              "    <tr>\n",
              "      <th>0</th>\n",
              "      <td>09 September 2020</td>\n",
              "      <td>BASF brings the farm to customers with launch ...</td>\n",
              "      <td>https://www.basf.com/sg/en/media/news-releases...</td>\n",
              "      <td>Cookies help deliver our services using our se...</td>\n",
              "    </tr>\n",
              "    <tr>\n",
              "      <th>1</th>\n",
              "      <td>14 August 2020</td>\n",
              "      <td>BASF enhances R&amp;D capabilities with the acquis...</td>\n",
              "      <td>https://www.basf.com/sg/en/media/news-releases...</td>\n",
              "      <td>Cookies help deliver our services using our se...</td>\n",
              "    </tr>\n",
              "    <tr>\n",
              "      <th>2</th>\n",
              "      <td>16 August 2020</td>\n",
              "      <td>Incident at BASF site in Gusan</td>\n",
              "      <td>https://www.basf.com/sg/en/media/news-releases...</td>\n",
              "      <td>Cookies help deliver our services using our se...</td>\n",
              "    </tr>\n",
              "  </tbody>\n",
              "</table>\n",
              "</div>"
            ],
            "text/plain": [
              "        date_of_news  ...                                              clean\n",
              "0  09 September 2020  ...  Cookies help deliver our services using our se...\n",
              "1     14 August 2020  ...  Cookies help deliver our services using our se...\n",
              "2     16 August 2020  ...  Cookies help deliver our services using our se...\n",
              "\n",
              "[3 rows x 4 columns]"
            ]
          },
          "metadata": {
            "tags": []
          },
          "execution_count": 16
        },
        {
          "output_type": "stream",
          "text": [
            "time: 583 ms (started: 2021-04-11 14:10:58 +00:00)\n"
          ],
          "name": "stdout"
        }
      ]
    },
    {
      "cell_type": "code",
      "metadata": {
        "id": "NeVB1HOyO-eS"
      },
      "source": [
        "txt = str(pre_process['clean'].values)\n",
        "docx = nlp(txt)\n",
        "for ent in docx.ents:\n",
        "  # print([(ent.text, ent.start_char, ent.end_char, ent.label_) for ent in doc.ents])\n",
        "\n",
        "  entities = []\n",
        "  labels = []\n",
        "  position_start = []\n",
        "  position_end = []\n",
        "\n",
        "for ent in docx.ents:\n",
        "    entities.append(ent)\n",
        "    labels.append(ent.label_)\n",
        "    position_start.append(ent.start_char)\n",
        "    position_end.append(ent.end_char)\n",
        "    \n",
        "df2 = DataFrame({'Labels':labels, 'Entities':entities,'Position_Start':position_start, 'Position_End':position_end})\n",
        "print(df2)"
      ],
      "execution_count": null,
      "outputs": []
    },
    {
      "cell_type": "markdown",
      "metadata": {
        "id": "0W-EgQUaPM4m"
      },
      "source": [
        "### ***Removing stop words:***"
      ]
    },
    {
      "cell_type": "code",
      "metadata": {
        "colab": {
          "base_uri": "https://localhost:8080/"
        },
        "id": "ng8E4UdJPPuA",
        "outputId": "1c1ab08c-58ac-46da-8730-34f321774cb8"
      },
      "source": [
        "# importing stop words from English language.\n",
        "stopwords = spacy.lang.en.stop_words.STOP_WORDS\n",
        "\n",
        "# Printing the total number of stop words:\n",
        "print('Number of stop words: %d' % len(stopwords))\n",
        "\n",
        "# Printing first ten stop words:\n",
        "print('First ten stop words: %s' % list(stopwords)[:20])"
      ],
      "execution_count": 19,
      "outputs": [
        {
          "output_type": "stream",
          "text": [
            "Number of stop words: 326\n",
            "First ten stop words: ['seemed', 'almost', 'somewhere', 'latterly', 'others', 'could', 'thru', 'everyone', 'an', 'below', 'whom', 'nobody', 'therefore', 'another', 'does', 'hence', 'nine', 'just', 'about', 'who']\n",
            "time: 19.1 ms (started: 2021-04-11 14:11:23 +00:00)\n"
          ],
          "name": "stdout"
        }
      ]
    },
    {
      "cell_type": "markdown",
      "metadata": {
        "id": "YvwQPHbR80c6"
      },
      "source": [
        "### ***Sequentially process:***"
      ]
    },
    {
      "cell_type": "code",
      "metadata": {
        "colab": {
          "base_uri": "https://localhost:8080/",
          "height": 203
        },
        "id": "uMsXwgfGPcxA",
        "outputId": "58be3b27-80eb-4737-b66e-b2cea880ebb8"
      },
      "source": [
        "def lemmatize(text):\n",
        "    lemma_list = [str(tok.lemma_).lower() for tok in doc\n",
        "              if tok.is_alpha and tok.text.lower() not in stopwords]\n",
        "    return lemma_list\n",
        "\n",
        "pre_process['preproc'] = pre_process['clean'].apply(lemmatize)\n",
        "pre_process[['date_of_news', 'title', 'hyperlink', 'preproc']].head(3)"
      ],
      "execution_count": 20,
      "outputs": [
        {
          "output_type": "execute_result",
          "data": {
            "text/html": [
              "<div>\n",
              "<style scoped>\n",
              "    .dataframe tbody tr th:only-of-type {\n",
              "        vertical-align: middle;\n",
              "    }\n",
              "\n",
              "    .dataframe tbody tr th {\n",
              "        vertical-align: top;\n",
              "    }\n",
              "\n",
              "    .dataframe thead th {\n",
              "        text-align: right;\n",
              "    }\n",
              "</style>\n",
              "<table border=\"1\" class=\"dataframe\">\n",
              "  <thead>\n",
              "    <tr style=\"text-align: right;\">\n",
              "      <th></th>\n",
              "      <th>date_of_news</th>\n",
              "      <th>title</th>\n",
              "      <th>hyperlink</th>\n",
              "      <th>preproc</th>\n",
              "    </tr>\n",
              "  </thead>\n",
              "  <tbody>\n",
              "    <tr>\n",
              "      <th>0</th>\n",
              "      <td>09 September 2020</td>\n",
              "      <td>BASF brings the farm to customers with launch ...</td>\n",
              "      <td>https://www.basf.com/sg/en/media/news-releases...</td>\n",
              "      <td>[able, access, private, document, video, priva...</td>\n",
              "    </tr>\n",
              "    <tr>\n",
              "      <th>1</th>\n",
              "      <td>14 August 2020</td>\n",
              "      <td>BASF enhances R&amp;D capabilities with the acquis...</td>\n",
              "      <td>https://www.basf.com/sg/en/media/news-releases...</td>\n",
              "      <td>[able, access, private, document, video, priva...</td>\n",
              "    </tr>\n",
              "    <tr>\n",
              "      <th>2</th>\n",
              "      <td>16 August 2020</td>\n",
              "      <td>Incident at BASF site in Gusan</td>\n",
              "      <td>https://www.basf.com/sg/en/media/news-releases...</td>\n",
              "      <td>[able, access, private, document, video, priva...</td>\n",
              "    </tr>\n",
              "  </tbody>\n",
              "</table>\n",
              "</div>"
            ],
            "text/plain": [
              "        date_of_news  ...                                            preproc\n",
              "0  09 September 2020  ...  [able, access, private, document, video, priva...\n",
              "1     14 August 2020  ...  [able, access, private, document, video, priva...\n",
              "2     16 August 2020  ...  [able, access, private, document, video, priva...\n",
              "\n",
              "[3 rows x 4 columns]"
            ]
          },
          "metadata": {
            "tags": []
          },
          "execution_count": 20
        },
        {
          "output_type": "stream",
          "text": [
            "time: 18.7 s (started: 2021-04-11 14:11:23 +00:00)\n"
          ],
          "name": "stdout"
        }
      ]
    },
    {
      "cell_type": "markdown",
      "metadata": {
        "id": "hAnpdiKqQEHL"
      },
      "source": [
        "#### ***Testing performance from above cleaning process:***"
      ]
    },
    {
      "cell_type": "code",
      "metadata": {
        "colab": {
          "base_uri": "https://localhost:8080/"
        },
        "id": "iJaynJfoOhBN",
        "outputId": "a61bb86e-4724-4d86-f6d2-82bddc69e461"
      },
      "source": [
        "txt = str(pre_process['preproc'].values)\n",
        "docx = nlp(txt)\n",
        "for ent in docx.ents:\n",
        "  # print([(ent.text, ent.start_char, ent.end_char, ent.label_) for ent in doc.ents])\n",
        "\n",
        "  entities = []\n",
        "  labels = []\n",
        "  position_start = []\n",
        "  position_end = []\n",
        "\n",
        "for ent in docx.ents:\n",
        "    entities.append(ent)\n",
        "    labels.append(ent.label_)\n",
        "    position_start.append(ent.start_char)\n",
        "    position_end.append(ent.end_char)\n",
        "    \n",
        "df2 = DataFrame({'Labels':labels, 'Entities':entities,'Position_Start':position_start, 'Position_End':position_end})\n",
        "print(df2)"
      ],
      "execution_count": 21,
      "outputs": [
        {
          "output_type": "stream",
          "text": [
            "     Labels      Entities  Position_Start  Position_End\n",
            "0       LOC        (asia)             966           970\n",
            "1      DATE  (', year, ')             973           979\n",
            "2       GPE     (kepstan)            1220          1227\n",
            "3    PERSON         (bin)            1993          1996\n",
            "4    PERSON    (abdullah)            2000          2008\n",
            "..      ...           ...             ...           ...\n",
            "446     ORG         (sec)          155499        155502\n",
            "447  PERSON       (johan)          155518        155523\n",
            "448  PERSON     (suzanne)          155554        155561\n",
            "449  PERSON   (mattaboni)          155565        155574\n",
            "450    DATE       (april)          155630        155635\n",
            "\n",
            "[451 rows x 4 columns]\n",
            "time: 7.9 s (started: 2021-04-11 14:11:42 +00:00)\n"
          ],
          "name": "stdout"
        }
      ]
    },
    {
      "cell_type": "markdown",
      "metadata": {
        "id": "_mPIm0DVRdCg"
      },
      "source": [
        "### ***nlp.pipe:***\n",
        "\n",
        "Testing to check if cleaning process can be improved using nlp.pipe\n",
        "\n",
        " - I have followed sPacy documentation (https://spacy.io/api/language#pipe) for this.\n",
        " - As per documentation processing texts as a stream is usually more efficient than processing them one-by-one."
      ]
    },
    {
      "cell_type": "code",
      "metadata": {
        "colab": {
          "base_uri": "https://localhost:8080/",
          "height": 203
        },
        "id": "5RHeJIfgPjGR",
        "outputId": "b6c81852-f674-4f2c-98ad-fb762ce729f0"
      },
      "source": [
        "def lemmatize_pipe(doc):\n",
        "    lemma_list = [str(tok.lemma_).lower() for tok in doc\n",
        "                  if tok.is_alpha and tok.text.lower() not in stopwords] \n",
        "    return lemma_list\n",
        "\n",
        "def preprocess_pipe(texts):\n",
        "    preproc_pipe = []\n",
        "    for doc in nlp.pipe(texts, batch_size=20):\n",
        "        preproc_pipe.append(lemmatize_pipe(doc))\n",
        "    return preproc_pipe\n",
        "\n",
        "pre_process['preproc_pipe'] = preprocess_pipe(pre_process['clean'])\n",
        "pre_process[['date_of_news', 'title', 'hyperlink', 'preproc_pipe']].head(3)"
      ],
      "execution_count": 22,
      "outputs": [
        {
          "output_type": "execute_result",
          "data": {
            "text/html": [
              "<div>\n",
              "<style scoped>\n",
              "    .dataframe tbody tr th:only-of-type {\n",
              "        vertical-align: middle;\n",
              "    }\n",
              "\n",
              "    .dataframe tbody tr th {\n",
              "        vertical-align: top;\n",
              "    }\n",
              "\n",
              "    .dataframe thead th {\n",
              "        text-align: right;\n",
              "    }\n",
              "</style>\n",
              "<table border=\"1\" class=\"dataframe\">\n",
              "  <thead>\n",
              "    <tr style=\"text-align: right;\">\n",
              "      <th></th>\n",
              "      <th>date_of_news</th>\n",
              "      <th>title</th>\n",
              "      <th>hyperlink</th>\n",
              "      <th>preproc_pipe</th>\n",
              "    </tr>\n",
              "  </thead>\n",
              "  <tbody>\n",
              "    <tr>\n",
              "      <th>0</th>\n",
              "      <td>09 September 2020</td>\n",
              "      <td>BASF brings the farm to customers with launch ...</td>\n",
              "      <td>https://www.basf.com/sg/en/media/news-releases...</td>\n",
              "      <td>[cookie, help, deliver, service, service, agre...</td>\n",
              "    </tr>\n",
              "    <tr>\n",
              "      <th>1</th>\n",
              "      <td>14 August 2020</td>\n",
              "      <td>BASF enhances R&amp;D capabilities with the acquis...</td>\n",
              "      <td>https://www.basf.com/sg/en/media/news-releases...</td>\n",
              "      <td>[cookie, help, deliver, service, service, agre...</td>\n",
              "    </tr>\n",
              "    <tr>\n",
              "      <th>2</th>\n",
              "      <td>16 August 2020</td>\n",
              "      <td>Incident at BASF site in Gusan</td>\n",
              "      <td>https://www.basf.com/sg/en/media/news-releases...</td>\n",
              "      <td>[cookie, help, deliver, service, service, agre...</td>\n",
              "    </tr>\n",
              "  </tbody>\n",
              "</table>\n",
              "</div>"
            ],
            "text/plain": [
              "        date_of_news  ...                                       preproc_pipe\n",
              "0  09 September 2020  ...  [cookie, help, deliver, service, service, agre...\n",
              "1     14 August 2020  ...  [cookie, help, deliver, service, service, agre...\n",
              "2     16 August 2020  ...  [cookie, help, deliver, service, service, agre...\n",
              "\n",
              "[3 rows x 4 columns]"
            ]
          },
          "metadata": {
            "tags": []
          },
          "execution_count": 22
        },
        {
          "output_type": "stream",
          "text": [
            "time: 3min 36s (started: 2021-04-11 14:11:50 +00:00)\n"
          ],
          "name": "stdout"
        }
      ]
    },
    {
      "cell_type": "markdown",
      "metadata": {
        "id": "LNuxcv3tQc8T"
      },
      "source": [
        "#### ***Testing performance from above cleaning process:***"
      ]
    },
    {
      "cell_type": "code",
      "metadata": {
        "colab": {
          "base_uri": "https://localhost:8080/"
        },
        "id": "zw4bEw4KQSFh",
        "outputId": "6c34ef83-5426-4373-eeab-33050507af01"
      },
      "source": [
        "txt = str(pre_process['preproc_pipe'].values)\n",
        "docx = nlp(txt)\n",
        "for ent in docx.ents:\n",
        "  # print([(ent.text, ent.start_char, ent.end_char, ent.label_) for ent in doc.ents])\n",
        "\n",
        "  entities = []\n",
        "  labels = []\n",
        "  position_start = []\n",
        "  position_end = []\n",
        "\n",
        "for ent in docx.ents:\n",
        "    entities.append(ent)\n",
        "    labels.append(ent.label_)\n",
        "    position_start.append(ent.start_char)\n",
        "    position_end.append(ent.end_char)\n",
        "    \n",
        "df2 = DataFrame({'Labels':labels, 'Entities':entities,'Position_Start':position_start, 'Position_End':position_end})\n",
        "print(df2)"
      ],
      "execution_count": 23,
      "outputs": [
        {
          "output_type": "stream",
          "text": [
            "      Labels      Entities  Position_Start  Position_End\n",
            "0        GPE   (australia)             232           241\n",
            "1        ORG        (basf)             327           331\n",
            "2        ORG        (basf)             527           531\n",
            "3       NORP  (australian)             535           545\n",
            "4    PRODUCT      (canola)             568           574\n",
            "..       ...           ...             ...           ...\n",
            "172      GPE      (mexico)           35492         35498\n",
            "173   PERSON       (erica)           35502         35507\n",
            "174   PERSON       (erica)           35529         35534\n",
            "175      GPE      (brazil)           35569         35575\n",
            "176      ORG   (', ltd, ')           35673         35678\n",
            "\n",
            "[177 rows x 4 columns]\n",
            "time: 1.87 s (started: 2021-04-11 14:15:27 +00:00)\n"
          ],
          "name": "stdout"
        }
      ]
    },
    {
      "cell_type": "markdown",
      "metadata": {
        "id": "zXW0We-bS2WJ"
      },
      "source": [
        "### ***Parallelize work:***\n",
        "\n",
        "Testing with joblib.\n",
        "\n",
        " - sPacy recommends joblib library for processing blocks of NLP pipeline in parallel.\n",
        "\n",
        "- Once joblib creates a set of worker processes that work on each chunk, each worker returns a \"list of lists\" containing lemmas for each document. These lists are then combined by the executor to provide a 3-level nested final \"list of lists of lists\".\n",
        "\n",
        "- To ensure that the length of the output from the executor is the same as the actual number of articles, a \"flatten\" method is defined to combine the result into a list of lists containing lemmas.\n"
      ]
    },
    {
      "cell_type": "code",
      "metadata": {
        "colab": {
          "base_uri": "https://localhost:8080/",
          "height": 203
        },
        "id": "0U_Wi2dIPjKR",
        "outputId": "b966c56c-7ef9-49be-c337-27f7323f5cb1"
      },
      "source": [
        "def chunker(iterable, total_length, chunksize):\n",
        "    return (iterable[pos: pos + chunksize] for pos in range(0, total_length, chunksize))\n",
        "\n",
        "def flatten(list_of_lists):\n",
        "    return [item for sublist in list_of_lists for item in sublist]\n",
        "\n",
        "def process_chunk(texts):\n",
        "    preproc_pipe = []\n",
        "    for doc in nlp.pipe(texts, batch_size=20):\n",
        "        preproc_pipe.append(lemmatize_pipe(doc))\n",
        "    return preproc_pipe\n",
        "\n",
        "def preprocess_parallel(texts, chunksize=100):\n",
        "    executor = Parallel(n_jobs=7, backend='multiprocessing', prefer=\"processes\")\n",
        "    do = delayed(process_chunk)\n",
        "    tasks = (do(chunk) for chunk in chunker(texts, len(pre_process), chunksize=chunksize))\n",
        "    result = executor(tasks)\n",
        "    return flatten(result)\n",
        "\n",
        "pre_process['preproc_parallel'] = preprocess_parallel(pre_process['clean'], chunksize=1000)\n",
        "pre_process[['date_of_news', 'title', 'hyperlink', 'preproc_parallel']].head(3)"
      ],
      "execution_count": 24,
      "outputs": [
        {
          "output_type": "execute_result",
          "data": {
            "text/html": [
              "<div>\n",
              "<style scoped>\n",
              "    .dataframe tbody tr th:only-of-type {\n",
              "        vertical-align: middle;\n",
              "    }\n",
              "\n",
              "    .dataframe tbody tr th {\n",
              "        vertical-align: top;\n",
              "    }\n",
              "\n",
              "    .dataframe thead th {\n",
              "        text-align: right;\n",
              "    }\n",
              "</style>\n",
              "<table border=\"1\" class=\"dataframe\">\n",
              "  <thead>\n",
              "    <tr style=\"text-align: right;\">\n",
              "      <th></th>\n",
              "      <th>date_of_news</th>\n",
              "      <th>title</th>\n",
              "      <th>hyperlink</th>\n",
              "      <th>preproc_parallel</th>\n",
              "    </tr>\n",
              "  </thead>\n",
              "  <tbody>\n",
              "    <tr>\n",
              "      <th>0</th>\n",
              "      <td>09 September 2020</td>\n",
              "      <td>BASF brings the farm to customers with launch ...</td>\n",
              "      <td>https://www.basf.com/sg/en/media/news-releases...</td>\n",
              "      <td>[cookie, help, deliver, service, service, agre...</td>\n",
              "    </tr>\n",
              "    <tr>\n",
              "      <th>1</th>\n",
              "      <td>14 August 2020</td>\n",
              "      <td>BASF enhances R&amp;D capabilities with the acquis...</td>\n",
              "      <td>https://www.basf.com/sg/en/media/news-releases...</td>\n",
              "      <td>[cookie, help, deliver, service, service, agre...</td>\n",
              "    </tr>\n",
              "    <tr>\n",
              "      <th>2</th>\n",
              "      <td>16 August 2020</td>\n",
              "      <td>Incident at BASF site in Gusan</td>\n",
              "      <td>https://www.basf.com/sg/en/media/news-releases...</td>\n",
              "      <td>[cookie, help, deliver, service, service, agre...</td>\n",
              "    </tr>\n",
              "  </tbody>\n",
              "</table>\n",
              "</div>"
            ],
            "text/plain": [
              "        date_of_news  ...                                   preproc_parallel\n",
              "0  09 September 2020  ...  [cookie, help, deliver, service, service, agre...\n",
              "1     14 August 2020  ...  [cookie, help, deliver, service, service, agre...\n",
              "2     16 August 2020  ...  [cookie, help, deliver, service, service, agre...\n",
              "\n",
              "[3 rows x 4 columns]"
            ]
          },
          "metadata": {
            "tags": []
          },
          "execution_count": 24
        },
        {
          "output_type": "stream",
          "text": [
            "time: 2min 49s (started: 2021-04-11 14:15:29 +00:00)\n"
          ],
          "name": "stdout"
        }
      ]
    },
    {
      "cell_type": "markdown",
      "metadata": {
        "id": "2HYOXcnW-E7j"
      },
      "source": [
        "****Looking at processing time, parallilze work better performed than nlp.pipe. I have choosen to experiment with this one.****"
      ]
    },
    {
      "cell_type": "code",
      "metadata": {
        "colab": {
          "base_uri": "https://localhost:8080/",
          "height": 157
        },
        "id": "ox40xxAW15Py",
        "outputId": "6be6345f-eefa-44ee-d542-50809892fcde"
      },
      "source": [
        "# collecting relevant columns for my analysis\n",
        "pre_process = pre_process[['date_of_news', 'title', 'hyperlink', 'preproc_parallel']].copy()\n",
        "\n",
        "# renaming preproc_parallel -> article\n",
        "pre_process.rename(columns = {'preproc_parallel': 'article'}, inplace=True)\n",
        "pre_process.tail(2)"
      ],
      "execution_count": 25,
      "outputs": [
        {
          "output_type": "execute_result",
          "data": {
            "text/html": [
              "<div>\n",
              "<style scoped>\n",
              "    .dataframe tbody tr th:only-of-type {\n",
              "        vertical-align: middle;\n",
              "    }\n",
              "\n",
              "    .dataframe tbody tr th {\n",
              "        vertical-align: top;\n",
              "    }\n",
              "\n",
              "    .dataframe thead th {\n",
              "        text-align: right;\n",
              "    }\n",
              "</style>\n",
              "<table border=\"1\" class=\"dataframe\">\n",
              "  <thead>\n",
              "    <tr style=\"text-align: right;\">\n",
              "      <th></th>\n",
              "      <th>date_of_news</th>\n",
              "      <th>title</th>\n",
              "      <th>hyperlink</th>\n",
              "      <th>article</th>\n",
              "    </tr>\n",
              "  </thead>\n",
              "  <tbody>\n",
              "    <tr>\n",
              "      <th>3723</th>\n",
              "      <td>May 17, 2016 3:27pm EDT</td>\n",
              "      <td>New FDM 3D Printer Enhancements Make Stratasys...</td>\n",
              "      <td>https://investors.stratasys.com/news-events/pr...</td>\n",
              "      <td>[minneapolis, rehovot, business, wire, stratas...</td>\n",
              "    </tr>\n",
              "    <tr>\n",
              "      <th>3724</th>\n",
              "      <td>May 23, 2016 8:30am EDT</td>\n",
              "      <td>Stratasys to Showcase at SAMPE New 3D Printing...</td>\n",
              "      <td>https://investors.stratasys.com/news-events/pr...</td>\n",
              "      <td>[minneapolis, rehovot, business, wire, stratas...</td>\n",
              "    </tr>\n",
              "  </tbody>\n",
              "</table>\n",
              "</div>"
            ],
            "text/plain": [
              "                 date_of_news  ...                                            article\n",
              "3723  May 17, 2016 3:27pm EDT  ...  [minneapolis, rehovot, business, wire, stratas...\n",
              "3724  May 23, 2016 8:30am EDT  ...  [minneapolis, rehovot, business, wire, stratas...\n",
              "\n",
              "[2 rows x 4 columns]"
            ]
          },
          "metadata": {
            "tags": []
          },
          "execution_count": 25
        },
        {
          "output_type": "stream",
          "text": [
            "time: 28.8 ms (started: 2021-04-11 14:18:18 +00:00)\n"
          ],
          "name": "stdout"
        }
      ]
    },
    {
      "cell_type": "code",
      "metadata": {
        "colab": {
          "base_uri": "https://localhost:8080/"
        },
        "id": "MovdiatU2zlK",
        "outputId": "2d3dec43-d855-4349-afc6-9c5f52bd88a1"
      },
      "source": [
        "pre_process['article'][:2] # sanity check"
      ],
      "execution_count": 26,
      "outputs": [
        {
          "output_type": "execute_result",
          "data": {
            "text/plain": [
              "0    [cookie, help, deliver, service, service, agre...\n",
              "1    [cookie, help, deliver, service, service, agre...\n",
              "Name: article, dtype: object"
            ]
          },
          "metadata": {
            "tags": []
          },
          "execution_count": 26
        },
        {
          "output_type": "stream",
          "text": [
            "time: 8.56 ms (started: 2021-04-11 14:18:18 +00:00)\n"
          ],
          "name": "stdout"
        }
      ]
    },
    {
      "cell_type": "markdown",
      "metadata": {
        "id": "dzv8rRHb-g0x"
      },
      "source": [
        "## **Testing to check how nlp performs on clean data:**\n",
        "\n",
        "Here, I have created a clean data set to analyze further and create a training set for sPacy."
      ]
    },
    {
      "cell_type": "code",
      "metadata": {
        "colab": {
          "base_uri": "https://localhost:8080/"
        },
        "id": "eEWDfHzbPjNX",
        "outputId": "ba6e5bd6-95a1-4468-9b5f-b421f7a3d127"
      },
      "source": [
        "txt = str(pre_process['article'].values)\n",
        "docx = nlp(txt)\n",
        "for ent in docx.ents:\n",
        "  # print([(ent.text, ent.start_char, ent.end_char, ent.label_) for ent in doc.ents])\n",
        "\n",
        "  entities = []\n",
        "  labels = []\n",
        "  position_start = []\n",
        "  position_end = []\n",
        "\n",
        "for ent in docx.ents:\n",
        "    entities.append(ent)\n",
        "    labels.append(ent.label_)\n",
        "    position_start.append(ent.start_char)\n",
        "    position_end.append(ent.end_char)\n",
        "    \n",
        "df2 = DataFrame({'Labels':labels, 'Entities':entities,'Position_Start':position_start, 'Position_End':position_end})\n",
        "print(df2)\n",
        "\n",
        "    # str(spacy.explain(ent.label_))"
      ],
      "execution_count": 29,
      "outputs": [
        {
          "output_type": "stream",
          "text": [
            "      Labels      Entities  Position_Start  Position_End\n",
            "0        GPE   (australia)             232           241\n",
            "1        ORG        (basf)             327           331\n",
            "2        ORG        (basf)             527           531\n",
            "3       NORP  (australian)             535           545\n",
            "4    PRODUCT      (canola)             568           574\n",
            "..       ...           ...             ...           ...\n",
            "172      GPE      (mexico)           35492         35498\n",
            "173   PERSON       (erica)           35502         35507\n",
            "174   PERSON       (erica)           35529         35534\n",
            "175      GPE      (brazil)           35569         35575\n",
            "176      ORG   (', ltd, ')           35673         35678\n",
            "\n",
            "[177 rows x 4 columns]\n",
            "time: 1.86 s (started: 2021-04-11 14:19:20 +00:00)\n"
          ],
          "name": "stdout"
        }
      ]
    },
    {
      "cell_type": "code",
      "metadata": {
        "colab": {
          "base_uri": "https://localhost:8080/"
        },
        "id": "oAJp9p5dsBIB",
        "outputId": "0ae0302d-e86e-4c0f-ef8b-48ef977e4e30"
      },
      "source": [
        "# viewing in list format\n",
        "print([(ent.text, ent.start_char, ent.end_char, ent.label_) for ent in doc.ents])"
      ],
      "execution_count": 30,
      "outputs": [
        {
          "output_type": "stream",
          "text": [
            "[('Arkema', 130, 136, 'ORG'), ('3D', 261, 263, 'CARDINAL'), ('Sumeet Jain', 789, 800, 'PERSON'), ('Arkema', 846, 852, 'ORG'), ('Arkema', 855, 861, 'ORG'), ('TCT Asia', 1043, 1051, 'ORG'), ('this year', 1052, 1061, 'DATE'), ('Arkema', 1064, 1070, 'ORG'), ('3D', 1133, 1135, 'CARDINAL'), ('Rilsan', 1196, 1202, 'ORG'), ('11', 1215, 1217, 'CARDINAL'), ('12', 1292, 1294, 'CARDINAL'), ('Kepstan', 1296, 1303, 'GPE'), ('Sartomer', 1386, 1394, 'PERSON'), ('Booth# E5-E71', 1507, 1520, 'ORG'), ('3d-arkema.com', 1557, 1570, 'CARDINAL'), ('2013', 1593, 1597, 'CARDINAL'), ('today', 1620, 1625, 'DATE'), ('Creating Lasting Value’', 1637, 1660, 'WORK_OF_ART'), ('Prince Saud bin Abdullah bin Thenayan Al-Saud', 2071, 2116, 'PERSON'), ('the Royal Commission for Jubail', 2130, 2161, 'ORG'), ('Yanbu', 2166, 2171, 'ORG'), ('SABIC', 2188, 2193, 'ORG'), ('third', 2213, 2218, 'ORDINAL'), ('Mohamed Al-Mady', 2652, 2667, 'PERSON'), ('SABIC', 2669, 2674, 'ORG'), ('SABIC', 2765, 2770, 'ORG'), ('\\\\xa0We', 2847, 2853, 'ORG'), ('SABIC', 3428, 3433, 'ORG'), ('Al-Mady', 3444, 3451, 'PERSON'), ('the year', 4183, 4191, 'DATE'), ('SABIC', 4304, 4309, 'ORG'), ('2025', 4343, 4347, 'DATE'), ('SABIC', 4367, 4372, 'ORG'), ('Saudi Arabia', 4441, 4453, 'GPE'), ('SABIC', 4512, 4517, 'ORG'), ('CO2', 4698, 4701, 'PRODUCT'), ('Proactive Product Safety', 4845, 4869, 'ORG'), ('2013', 5053, 5057, 'CARDINAL'), ('SABIC', 5096, 5101, 'ORG'), ('http://www.sabic.com/sustainability\\\\xa0Samir Al-Abdrabbuh', 5113, 5170, 'PERSON'), (\"Corporate Communications'\", 5188, 5213, 'ORG'), ('Wacker Chemie AG', 5216, 5232, 'ORG'), ('the first quarter of 2019', 5264, 5289, 'DATE'), ('year', 5306, 5310, 'DATE'), ('quarter', 5315, 5322, 'DATE'), ('quarter', 5328, 5335, 'DATE'), ('Munich', 5488, 5494, 'GPE'), ('€1,235.7 million', 5534, 5550, 'MONEY'), ('the reporting quarter', 5554, 5575, 'DATE'), ('Q1 2018', 5577, 5584, 'DATE'), ('€1,217.6 million', 5586, 5602, 'MONEY'), ('2 percent', 5614, 5623, 'PERCENT'), ('the previous year', 5637, 5654, 'DATE'), ('WACKER', 5764, 5770, 'ORG'), ('a year ago', 5888, 5898, 'DATE'), ('the year-over-year', 5951, 5969, 'DATE'), ('the preceding quarter', 5997, 6018, 'DATE'), ('€1,188.6 million', 6020, 6036, 'MONEY'), ('4 percent', 6053, 6062, 'PERCENT'), ('Q1 2019', 6095, 6102, 'DATE'), ('WACKER', 6104, 6110, 'ORG'), ('EBITDA', 6118, 6124, 'ORG'), ('€142.0 million', 6193, 6207, 'MONEY'), ('44 percent', 6218, 6228, 'PERCENT'), ('less than a year ago', 6229, 6249, 'DATE'), ('€254.5 million', 6251, 6265, 'MONEY'), ('a quarter ago', 6460, 6473, 'DATE'), ('€173.3 million', 6475, 6489, 'MONEY'), ('EBITDA', 6492, 6498, 'ORG'), ('18 percent', 6510, 6520, 'PERCENT'), ('EBITDA', 6526, 6532, 'ORG'), ('January through March 2019', 6544, 6570, 'DATE'), ('11.5 percent', 6575, 6587, 'PERCENT'), ('20.9 percent', 6596, 6608, 'PERCENT'), ('a year earlier', 6609, 6623, 'DATE'), ('14.6 percent', 6628, 6640, 'PERCENT'), ('a quarter ago', 6641, 6654, 'DATE'), ('€0.1 million', 6712, 6724, 'MONEY'), ('the reporting quarter', 6728, 6749, 'DATE'), ('Q1 2018', 6751, 6758, 'DATE'), ('€121.7 million', 6760, 6774, 'MONEY'), ('0.0 percent', 6815, 6826, 'PERCENT'), ('Q1 2018', 6828, 6835, 'DATE'), ('10.0 percent', 6837, 6849, 'PERCENT'), ('year-over-year', 6901, 6915, 'DATE'), ('7 percent', 6966, 6975, 'PERCENT'), ('€141.9 million', 6979, 6993, 'MONEY'), ('Q1 2018', 6995, 7002, 'DATE'), ('€132.8 million', 7004, 7018, 'MONEY'), ('One', 7021, 7024, 'CARDINAL'), ('IFRS 16', 7081, 7088, 'ORG'), ('the quarter', 7161, 7172, 'DATE'), ('€-5.5 million', 7181, 7194, 'MONEY'), ('Q1 2018', 7196, 7203, 'DATE'), ('€79.1 million', 7205, 7218, 'MONEY'), ('-0.16', 7255, 7260, 'PERSON'), ('Q1 2018', 7262, 7269, 'DATE'), ('1.52', 7272, 7276, 'MONEY'), ('full-year 2019', 7283, 7297, 'DATE'), ('2018', 7345, 7349, 'DATE'), ('WACKER', 7369, 7375, 'ORG'), ('Group', 7401, 7406, 'ORG'), ('2019', 7417, 7421, 'DATE'), ('last year', 7477, 7486, 'DATE'), ('€4,978.8 million', 7488, 7504, 'MONEY'), ('10 to 20 percent', 7538, 7554, 'PERCENT'), ('last year', 7562, 7571, 'DATE'), ('€930.0 million', 7582, 7596, 'MONEY'), ('WACKER', 7600, 7606, 'ORG'), ('Q1 2019', 7621, 7628, 'DATE'), ('Rudolf Staudigl', 7781, 7796, 'PERSON'), ('Munich', 7800, 7806, 'GPE'), ('Thursday', 7810, 7818, 'DATE'), ('one', 7857, 7860, 'CARDINAL'), ('a year ago', 8050, 8060, 'DATE'), ('the first quarter', 8138, 8155, 'DATE'), ('the second half-year', 8387, 8407, 'DATE'), ('the reporting quarter', 8452, 8473, 'DATE'), ('German', 8513, 8519, 'NORP'), ('a year', 8575, 8581, 'DATE'), ('Q1 2019', 8886, 8893, 'DATE'), ('WACKER', 8895, 8901, 'ORG'), ('Americas', 8926, 8934, 'LOC'), ('€226.7 million', 8967, 8981, 'MONEY'), ('12 percent', 8992, 9002, 'PERCENT'), ('more than a year ago', 9003, 9023, 'DATE'), ('€201.7 million', 9025, 9039, 'MONEY'), ('Asia', 9057, 9061, 'LOC'), ('€432.5 million', 9073, 9087, 'MONEY'), ('the reporting quarter', 9091, 9112, 'DATE'), ('Q1 2018', 9114, 9121, 'DATE'), ('€432.7 million', 9123, 9137, 'MONEY'), ('Europe', 9155, 9161, 'LOC'), ('€520.7 million', 9174, 9188, 'MONEY'), ('Q1 2018', 9190, 9197, 'CARDINAL'), ('€520.3 million', 9199, 9213, 'MONEY'), ('a year earlier', 9252, 9266, 'DATE'), ('Q1 2019', 9271, 9278, 'DATE'), ('Group', 9284, 9289, 'ORG'), ('€97.7 million', 9324, 9337, 'MONEY'), ('Q1 2018', 9339, 9346, 'DATE'), ('€69.2 million', 9348, 9361, 'MONEY'), ('41 percent', 9388, 9398, 'PERCENT'), ('Q1 2019', 9519, 9526, 'DATE'), ('Q1 2018', 9528, 9535, 'DATE'), ('€148.7 million', 9537, 9551, 'MONEY'), ('WACKER', 9657, 9663, 'ORG'), ('the reporting quarter', 9695, 9716, 'DATE'), ('Group', 9722, 9727, 'ORG'), ('14,744', 9732, 9738, 'CARDINAL'), ('March 31, 2019', 9752, 9766, 'DATE'), ('Dec. 31, 2018', 9768, 9781, 'DATE'), ('14,542', 9783, 9789, 'CARDINAL'), ('10,428', 9829, 9835, 'CARDINAL'), ('Dec. 31, 2018', 9847, 9860, 'DATE'), ('10,291', 9862, 9868, 'CARDINAL'), ('WACKER', 9880, 9886, 'ORG'), ('Germany', 9896, 9903, 'GPE'), ('4,316', 9908, 9913, 'CARDINAL'), ('Dec. 31, 2018', 9915, 9928, 'DATE'), ('4,251', 9930, 9935, 'CARDINAL'), ('WACKER SILICONES', 9965, 9981, 'PERSON'), ('€604.9 million', 10006, 10020, 'MONEY'), ('Q1 2019', 10024, 10031, 'DATE'), ('prior-year', 10049, 10059, 'DATE'), ('€605.8 million', 10067, 10081, 'MONEY'), ('a year ago', 10249, 10259, 'DATE'), ('a quarter ago', 10275, 10288, 'DATE'), ('€605.1 million', 10290, 10304, 'MONEY'), ('WACKER', 10351, 10357, 'ORG'), ('€128.1 million', 10385, 10399, 'MONEY'), ('the reporting quarter', 10403, 10424, 'DATE'), ('14 percent', 10426, 10436, 'PERCENT'), ('a year ago', 10448, 10458, 'DATE'), ('€148.5 million', 10460, 10474, 'MONEY'), ('a quarter ago', 10676, 10689, 'DATE'), ('€118.1 million', 10691, 10705, 'MONEY'), ('EBITDA', 10708, 10714, 'ORG'), ('8 percent', 10723, 10732, 'PERCENT'), ('EBITDA', 10738, 10744, 'ORG'), ('Q1 2019', 10756, 10763, 'DATE'), ('21.2 percent', 10768, 10780, 'PERCENT'), ('24.5 percent', 10788, 10800, 'PERCENT'), ('Q1 2018', 10804, 10811, 'DATE'), ('19.5 percent', 10816, 10828, 'PERCENT'), ('a quarter ago', 10829, 10842, 'DATE'), ('WACKER', 10853, 10859, 'ORG'), ('€323.6 million', 10877, 10891, 'MONEY'), ('the reporting quarter', 10895, 10916, 'DATE'), ('7 percent', 10918, 10927, 'PERCENT'), ('a year ago', 10940, 10950, 'DATE'), ('€301.9 million', 10952, 10966, 'MONEY'), ('the preceding quarter', 11083, 11104, 'DATE'), ('€298.4 million', 11106, 11120, 'MONEY'), ('8 percent', 11134, 11143, 'PERCENT'), ('€44.5 million', 11221, 11234, 'MONEY'), ('Q1 2019', 11238, 11245, 'DATE'), ('€41.9 million', 11252, 11265, 'MONEY'), ('the same period last year', 11269, 11294, 'DATE'), ('6 percent', 11320, 11329, 'PERCENT'), ('EBITDA', 11356, 11362, 'ORG'), ('a year ago', 11434, 11444, 'DATE'), ('the preceding quarter', 11513, 11534, 'DATE'), ('€26.3 million', 11536, 11549, 'MONEY'), ('EBITDA', 11552, 11558, 'ORG'), ('69 percent', 11567, 11577, 'PERCENT'), ('EBITDA', 11583, 11589, 'ORG'), ('13.8 percent', 11601, 11613, 'PERCENT'), ('Q1 2019', 11617, 11624, 'DATE'), ('13.9 percent', 11632, 11644, 'PERCENT'), ('a year earlier', 11645, 11659, 'DATE'), ('8.8 percent', 11664, 11675, 'PERCENT'), ('a quarter ago', 11676, 11689, 'DATE'), ('WACKER BIOSOLUTIONS', 11691, 11710, 'ORG'), ('€58.3 million', 11735, 11748, 'MONEY'), ('Q1 2019', 11752, 11759, 'DATE'), ('7 percent', 11770, 11779, 'PERCENT'), ('last year', 11792, 11801, 'DATE'), ('€54.3 million', 11803, 11816, 'MONEY'), ('a quarter ago', 11834, 11847, 'DATE'), ('€58.2 million', 11849, 11862, 'MONEY'), ('the quarter', 11928, 11939, 'DATE'), ('WACKER BIOSOLUTIONS', 12074, 12093, 'PERSON'), ('€5.9 million', 12111, 12123, 'MONEY'), ('the reporting quarter', 12127, 12148, 'DATE'), ('42 percent', 12150, 12160, 'PERCENT'), ('a year ago', 12172, 12182, 'DATE'), ('€10.1 million', 12184, 12197, 'MONEY'), ('Netherlands', 12309, 12320, 'GPE'), ('the preceding quarter', 12364, 12385, 'DATE'), ('€2.0 million', 12387, 12399, 'MONEY'), ('EBITDA', 12475, 12481, 'ORG'), ('10.1 percent', 12493, 12505, 'PERCENT'), ('18.6 percent', 12513, 12525, 'PERCENT'), ('a year ago', 12526, 12536, 'DATE'), ('3.4 percent', 12541, 12552, 'PERCENT'), ('2018', 12559, 12563, 'DATE'), ('WACKER POLYSILICON', 12565, 12583, 'ORG'), ('€211.1 million', 12609, 12623, 'MONEY'), ('the reporting quarter', 12627, 12648, 'DATE'), ('4 percent', 12650, 12659, 'PERCENT'), ('less than a year ago', 12660, 12680, 'DATE'), ('€219.3 million', 12682, 12696, 'MONEY'), ('year-over-year', 12828, 12842, 'DATE'), ('the preceding quarter', 12872, 12893, 'DATE'), ('€188.6 million', 12895, 12909, 'MONEY'), ('12 percent', 12923, 12933, 'PERCENT'), ('WACKER POLYSILICON', 12974, 12992, 'ORG'), ('the reporting quarter', 13022, 13043, 'DATE'), ('€84 million', 13054, 13065, 'MONEY'), ('less than a year ago', 13066, 13086, 'DATE'), ('€48.2 million', 13088, 13101, 'MONEY'), ('the preceding quarter', 13193, 13214, 'DATE'), ('EBITDA', 13242, 13248, 'ORG'), ('about €17 million', 13261, 13278, 'MONEY'), ('quarter-over-quarter', 13361, 13381, 'DATE'), ('January-through-March 2019', 13764, 13790, 'DATE'), ('22.0 percent', 13816, 13828, 'PERCENT'), ('Q1 2018', 13832, 13839, 'DATE'), ('-10.2 percent', 13844, 13857, 'ORG'), ('2018', 13864, 13868, 'DATE'), ('WACKER', 13870, 13876, 'ORG'), ('Group', 13921, 13926, 'ORG'), ('this year', 13941, 13950, 'DATE'), ('Outlook', 13958, 13965, 'ORG'), ('2018', 13981, 13985, 'DATE'), ('Annual Report', 13986, 13999, 'WORK_OF_ART'), ('the year', 14068, 14076, 'DATE'), ('10 to 20 percent', 14231, 14247, 'PERCENT'), ('last year', 14255, 14264, 'DATE'), ('WACKER', 14266, 14272, 'ORG'), ('EBITDA', 14285, 14291, 'ORG'), ('last year', 14330, 14339, 'DATE'), ('around €400 million', 14365, 14384, 'MONEY'), ('last year', 14399, 14408, 'DATE'), ('around €525 million', 14447, 14466, 'MONEY'), ('last year', 14483, 14492, 'DATE'), ('Group', 14498, 14503, 'ORG'), ('WACKER', 14516, 14522, 'ORG'), ('last year', 14631, 14640, 'DATE'), ('last year', 14691, 14700, 'DATE'), ('first', 14712, 14717, 'ORDINAL'), ('IFRS 16', 14738, 14745, 'ORG'), ('Q1 2019', 14919, 14926, 'DATE'), ('WACKER', 14967, 14973, 'ORG'), ('WACKER', 15119, 15125, 'ORG'), ('Executive Board', 15128, 15143, 'ORG'), ('WACKER', 15716, 15722, 'ORG'), ('BASF', 15936, 15940, 'ORG'), ('Jinshan', 16035, 16042, 'GPE'), ('China', 16044, 16049, 'GPE'), ('Asia Pacific', 16140, 16152, 'LOC'), ('BASF', 16177, 16181, 'ORG'), ('BASF', 16272, 16276, 'ORG'), ('Jinshan', 16371, 16378, 'GPE'), ('China', 16380, 16385, 'GPE'), ('Asia Pacific', 16476, 16488, 'LOC'), ('BASF', 16513, 16517, 'ORG'), ('the Asia Pacific region', 17026, 17049, 'LOC'), ('BASF', 17154, 17158, 'ORG'), ('Matthias Lang', 17241, 17254, 'PERSON'), ('Business Management Fuel and Lubricant Solutions Asia Pacific', 17272, 17333, 'ORG'), ('the second half of 2022', 17534, 17557, 'DATE'), ('BASF Fuel and Lubricant Solutions', 17565, 17598, 'ORG'), ('Fuel and Lubricant Solutions', 17624, 17652, 'ORG'), ('Glysantin', 17831, 17840, 'PERSON'), ('Ludwigshafen', 18026, 18038, 'GPE'), ('Germany', 18040, 18047, 'GPE'), ('Cincinnati', 18049, 18059, 'GPE'), ('Florham Park', 18064, 18076, 'FAC'), ('USA', 18084, 18087, 'GPE'), ('Nanjing', 18089, 18096, 'GPE'), ('Shanghai', 18101, 18109, 'GPE'), ('China', 18113, 18118, 'GPE'), ('Sao Paulo', 18131, 18140, 'GPE'), ('Brazil', 18142, 18148, 'GPE'), ('Ludwigshafen', 18199, 18211, 'GPE'), ('Germany', 18213, 18220, 'GPE'), ('Tarrytown', 18222, 18231, 'GPE'), ('USA', 18233, 18236, 'GPE'), ('Shanghai', 18241, 18249, 'GPE'), ('China', 18251, 18256, 'GPE'), ('BASF', 18395, 18399, 'ORG'), ('Performance Chemicals', 18402, 18423, 'ORG'), ('Plastic Additives', 18473, 18490, 'ORG'), ('Kaolin Minerals', 18492, 18507, 'PERSON'), ('Oilfield Chemicals', 18520, 18538, 'ORG'), ('Chemicals, Plastics', 18610, 18629, 'ORG'), ('Consumer Goods, Energy & Resources', 18631, 18665, 'ORG'), ('Automotive & Transportation', 18670, 18697, 'ORG'), ('BASF', 18800, 18804, 'PERSON'), ('BASF', 18808, 18812, 'PERSON'), ('More than 117,000', 18945, 18962, 'CARDINAL'), ('the BASF Group', 18976, 18990, 'ORG'), ('six', 19137, 19140, 'CARDINAL'), ('Surface Technologies', 19195, 19215, 'ORG'), ('Nutrition & Care and Agricultural Solutions', 19217, 19260, 'ORG'), ('BASF', 19262, 19266, 'ORG'), ('€59 billion', 19286, 19297, 'MONEY'), ('2019', 19301, 19305, 'DATE'), ('BASF', 19307, 19311, 'ORG'), ('Frankfurt', 19355, 19364, 'GPE'), ('BAS', 19366, 19369, 'ORG'), ('American Depositary Receipts', 19378, 19406, 'ORG'), ('BASFY', 19408, 19413, 'PERSON'), ('U.S.', 19422, 19426, 'GPE'), ('330', 19470, 19473, 'CARDINAL'), ('Jinshan', 19586, 19593, 'GPE'), ('China', 19595, 19600, 'GPE'), ('BASF News', 19609, 19618, 'ORG'), ('11', 19741, 19743, 'CARDINAL'), ('the UP Fila', 19758, 19769, 'ORG'), ('UP Fila', 19904, 19911, 'ORG'), ('Spring Sun Beige', 19951, 19967, 'PERSON'), ('Crystal Sea', 19969, 19980, 'LOC'), ('Minty Green', 19993, 20004, 'PERSON'), ('Treetop Green', 20019, 20032, 'PERSON'), ('Breathless Gray', 20051, 20066, 'PERSON'), ('Skydriver Cyan', 20068, 20082, 'GPE'), ('California', 20084, 20094, 'GPE'), ('Fairytale Purple', 20106, 20122, 'PERSON'), ('MakerBot BROOKLYN', 20701, 20718, 'ORG'), ('N.Y. & HARRISBURG', 20720, 20737, 'ORG'), ('MakerBot', 20762, 20770, 'ORG'), ('3D', 20804, 20806, 'CARDINAL'), ('D&H', 20887, 20890, 'ORG'), ('MakerBot', 20930, 20938, 'ORG'), ('3D', 20940, 20942, 'CARDINAL'), ('U.S.', 20978, 20982, 'GPE'), ('MakerBot', 21127, 21135, 'ORG'), ('D&H', 21160, 21163, 'ORG'), ('D&H', 21218, 21221, 'ORG'), ('D&H', 21303, 21306, 'ORG'), ('MakerBot', 21496, 21504, 'ORG'), ('D&H', 21571, 21574, 'ORG'), ('Solutions Lab', 21725, 21738, 'PRODUCT'), ('MakerBot', 21767, 21775, 'ORG'), ('D&H', 21780, 21783, 'ORG'), ('K-12', 21796, 21800, 'CARDINAL'), ('3D', 21902, 21904, 'CARDINAL'), ('3D', 21918, 21920, 'CARDINAL'), ('D&H', 22082, 22085, 'ORG'), ('MakerBot', 22231, 22239, 'ORG'), ('Mark Schulze', 22310, 22322, 'PERSON'), ('Americas', 22353, 22361, 'LOC'), ('Emerging Markets', 22366, 22382, 'ORG'), ('MakerBot', 22387, 22395, 'ORG'), ('D&H', 22436, 22439, 'ORG'), ('the 1980s', 22516, 22525, 'DATE'), ('3D', 22553, 22555, 'CARDINAL'), ('D&H', 22640, 22643, 'ORG'), ('100', 22671, 22674, 'CARDINAL'), ('U.S.', 22812, 22816, 'GPE'), ('3D Printers', 22884, 22895, 'ORG'), ('5,000', 22911, 22916, 'CARDINAL'), ('U.S.', 22975, 22979, 'GPE'), ('D&H', 22998, 23001, 'ORG'), ('more than 2,100', 23048, 23063, 'CARDINAL'), ('MakerBot', 23257, 23265, 'ORG'), ('MakerBot', 23465, 23473, 'ORG'), ('MakerBot', 23546, 23554, 'ORG'), ('3D', 23571, 23573, 'CARDINAL'), ('MakerCare', 23751, 23760, 'ORG'), ('D&H', 23792, 23795, 'ORG'), ('Jeff Davis', 23894, 23904, 'PERSON'), ('D&H Distributing', 23946, 23962, 'ORG'), ('MakerBot', 23965, 23973, 'ORG'), ('3D', 23976, 23978, 'CARDINAL'), ('3D', 24148, 24150, 'CARDINAL'), ('MakerBot', 24275, 24283, 'ORG'), ('U.S.', 24328, 24332, 'GPE'), ('D&H', 24466, 24469, 'ORG'), ('MakerBot Replicator 3D Printers', 24486, 24517, 'ORG'), ('3D Printer', 24626, 24636, 'PRODUCT'), ('D&H', 24752, 24755, 'ORG'), ('Scanner', 24808, 24815, 'PRODUCT'), ('MakerBot PLA', 24817, 24829, 'ORG'), ('ABS       Filaments', 24834, 24853, 'ORG'), ('MakerBot', 24865, 24873, 'ORG'), ('MakerBot', 24899, 24907, 'ORG'), ('first', 24988, 24993, 'ORDINAL'), ('MakerBot', 25057, 25065, 'ORG'), ('more than 80,000', 25175, 25191, 'CARDINAL'), ('MakerBot Desktop 3D Printers', 25198, 25226, 'ORG'), ('MakerBot 3D       Ecosystem', 25253, 25280, 'ORG'), ('MakerBot', 25333, 25341, 'ORG'), ('PrintShop', 25348, 25357, 'PRODUCT'), ('™', 25358, 25359, 'PRODUCT'), ('MakerBot', 25364, 25372, 'ORG'), ('Mobile', 25379, 25385, 'GPE'), ('Thingiverse', 25473, 25484, 'PERSON'), ('3D', 25527, 25529, 'CARDINAL'), ('MakerBot       Desktop 3D Printers', 25609, 25643, 'ORG'), ('MakerBot', 25839, 25847, 'ORG'), ('MakerBot MakerBot', 25903, 25920, 'ORG'), ('Stratasys Ltd.', 25939, 25953, 'ORG'), ('the Next Industrial Revolution', 25980, 26010, 'EVENT'), ('2009', 26110, 26114, 'DATE'), ('MakerBot', 26116, 26124, 'ORG'), ('3D', 26139, 26141, 'CARDINAL'), ('MakerBot', 26308, 26316, 'ORG'), ('D&H', 26410, 26413, 'ORG'), ('SMB', 26536, 26539, 'ORG'), ('SOHO', 26641, 26645, 'ORG'), ('D&H', 26710, 26713, 'ORG'), ('D&H', 27224, 27227, 'ORG'), ('five', 27241, 27245, 'CARDINAL'), ('North America', 27274, 27287, 'LOC'), ('U.S.', 27303, 27307, 'GPE'), ('Harrisburg', 27330, 27340, 'GPE'), ('Canadian', 27349, 27357, 'NORP'), ('Brampton', 27374, 27382, 'GPE'), ('Ontario', 27384, 27391, 'GPE'), ('U.S.', 27410, 27414, 'GPE'), ('Atlanta', 27441, 27448, 'GPE'), ('Chicago', 27450, 27457, 'GPE'), ('Fresno', 27462, 27468, 'GPE'), ('California', 27476, 27486, 'GPE'), ('D&H', 27508, 27511, 'ORG'), ('800-340-1001', 27536, 27548, 'MONEY'), ('Stratasys', 27673, 27682, 'ORG'), ('D&H', 27766, 27769, 'ORG'), ('Stratasys', 28061, 28070, 'ORG'), ('Stratasys', 28309, 28318, 'ORG'), ('Stratasys', 28399, 28408, 'ORG'), ('Stratasys', 28566, 28575, 'ORG'), ('Annual Report on Form', 28595, 28616, 'WORK_OF_ART'), ('the Securities and Exchange       Commission', 28634, 28678, 'ORG'), ('SEC', 28680, 28683, 'ORG'), ('March 3, 2015', 28688, 28701, 'DATE'), ('Stratasys', 28703, 28712, 'ORG'), ('SEC', 28985, 28988, 'ORG'), ('MakerBot Johan', 28990, 29004, 'ORG'), ('Till Broer', 29005, 29015, 'PERSON'), ('347', 29019, 29022, 'CARDINAL'), ('312', 29039, 29042, 'CARDINAL'), ('Suzanne', 29090, 29097, 'PERSON'), ('Mattaboni', 29104, 29113, 'PERSON'), ('610', 29138, 29141, 'CARDINAL'), ('MakerBot', 29177, 29185, 'ORG'), ('April 15, 2015', 29195, 29209, 'DATE')]\n",
            "time: 6.59 ms (started: 2021-04-11 14:19:28 +00:00)\n"
          ],
          "name": "stdout"
        }
      ]
    },
    {
      "cell_type": "code",
      "metadata": {
        "id": "-77QIFWkpGng",
        "colab": {
          "base_uri": "https://localhost:8080/",
          "height": 94
        },
        "outputId": "fed26ae8-8875-42a4-ddaf-f10245775c55"
      },
      "source": [
        "df2[:1] # sanity check"
      ],
      "execution_count": 31,
      "outputs": [
        {
          "output_type": "execute_result",
          "data": {
            "text/html": [
              "<div>\n",
              "<style scoped>\n",
              "    .dataframe tbody tr th:only-of-type {\n",
              "        vertical-align: middle;\n",
              "    }\n",
              "\n",
              "    .dataframe tbody tr th {\n",
              "        vertical-align: top;\n",
              "    }\n",
              "\n",
              "    .dataframe thead th {\n",
              "        text-align: right;\n",
              "    }\n",
              "</style>\n",
              "<table border=\"1\" class=\"dataframe\">\n",
              "  <thead>\n",
              "    <tr style=\"text-align: right;\">\n",
              "      <th></th>\n",
              "      <th>Labels</th>\n",
              "      <th>Entities</th>\n",
              "      <th>Position_Start</th>\n",
              "      <th>Position_End</th>\n",
              "    </tr>\n",
              "  </thead>\n",
              "  <tbody>\n",
              "    <tr>\n",
              "      <th>0</th>\n",
              "      <td>GPE</td>\n",
              "      <td>(australia)</td>\n",
              "      <td>232</td>\n",
              "      <td>241</td>\n",
              "    </tr>\n",
              "  </tbody>\n",
              "</table>\n",
              "</div>"
            ],
            "text/plain": [
              "  Labels     Entities  Position_Start  Position_End\n",
              "0    GPE  (australia)             232           241"
            ]
          },
          "metadata": {
            "tags": []
          },
          "execution_count": 31
        },
        {
          "output_type": "stream",
          "text": [
            "time: 15.3 ms (started: 2021-04-11 14:20:02 +00:00)\n"
          ],
          "name": "stdout"
        }
      ]
    },
    {
      "cell_type": "markdown",
      "metadata": {
        "id": "SwevTZVF5wSJ"
      },
      "source": [
        "### ***Tabular person_entitiy:***"
      ]
    },
    {
      "cell_type": "code",
      "metadata": {
        "colab": {
          "base_uri": "https://localhost:8080/"
        },
        "id": "VJICruLxPjW_",
        "outputId": "926167d6-8693-4ba5-e094-44736b24e86b"
      },
      "source": [
        "person_entity = []\n",
        "for ent in docx.ents:\n",
        "    if ent.label_ == 'PERSON':\n",
        "        person_entity.append(ent.text)\n",
        "        \n",
        "person_counts = Counter(person_entity).most_common()\n",
        "df_person = DataFrame(person_counts, columns =['text', 'count'])\n",
        "print(df_person)"
      ],
      "execution_count": 32,
      "outputs": [
        {
          "output_type": "stream",
          "text": [
            "        text  count\n",
            "0    grabcad     10\n",
            "1        joe      7\n",
            "2    librett      6\n",
            "3        lai      6\n",
            "4        xie      6\n",
            "5      erica      6\n",
            "6     miguel      3\n",
            "7        tim      2\n",
            "8       phil      1\n",
            "9       andy      1\n",
            "10       kim      1\n",
            "11      josh      1\n",
            "12  autodesk      1\n",
            "13      ryan      1\n",
            "14      rick      1\n",
            "time: 11.7 ms (started: 2021-04-11 14:20:17 +00:00)\n"
          ],
          "name": "stdout"
        }
      ]
    },
    {
      "cell_type": "code",
      "metadata": {
        "colab": {
          "base_uri": "https://localhost:8080/",
          "height": 102
        },
        "id": "GHkaP2adLOuS",
        "outputId": "8784514b-94db-4acc-a891-09afbbd8f9ee"
      },
      "source": [
        "# json string\n",
        "df_person.to_json(orient='table', index=False)"
      ],
      "execution_count": 33,
      "outputs": [
        {
          "output_type": "execute_result",
          "data": {
            "application/vnd.google.colaboratory.intrinsic+json": {
              "type": "string"
            },
            "text/plain": [
              "'{\"schema\":{\"fields\":[{\"name\":\"text\",\"type\":\"string\"},{\"name\":\"count\",\"type\":\"integer\"}],\"pandas_version\":\"0.20.0\"},\"data\":[{\"text\":\"grabcad\",\"count\":10},{\"text\":\"joe\",\"count\":7},{\"text\":\"librett\",\"count\":6},{\"text\":\"lai\",\"count\":6},{\"text\":\"xie\",\"count\":6},{\"text\":\"erica\",\"count\":6},{\"text\":\"miguel\",\"count\":3},{\"text\":\"tim\",\"count\":2},{\"text\":\"phil\",\"count\":1},{\"text\":\"andy\",\"count\":1},{\"text\":\"kim\",\"count\":1},{\"text\":\"josh\",\"count\":1},{\"text\":\"autodesk\",\"count\":1},{\"text\":\"ryan\",\"count\":1},{\"text\":\"rick\",\"count\":1}]}'"
            ]
          },
          "metadata": {
            "tags": []
          },
          "execution_count": 33
        },
        {
          "output_type": "stream",
          "text": [
            "time: 9.68 ms (started: 2021-04-11 14:20:22 +00:00)\n"
          ],
          "name": "stdout"
        }
      ]
    },
    {
      "cell_type": "code",
      "metadata": {
        "colab": {
          "base_uri": "https://localhost:8080/"
        },
        "id": "EAlozcHULc_C",
        "outputId": "4171a980-67c8-4025-b4c0-0bb3770af54e"
      },
      "source": [
        "# number of times person appeared\n",
        "\n",
        "xx = df_person.groupby('count')['text'].apply(list).to_dict()\n",
        "print (xx)"
      ],
      "execution_count": 34,
      "outputs": [
        {
          "output_type": "stream",
          "text": [
            "{1: ['phil', 'andy', 'kim', 'josh', 'autodesk', 'ryan', 'rick'], 2: ['tim'], 3: ['miguel'], 6: ['librett', 'lai', 'xie', 'erica'], 7: ['joe'], 10: ['grabcad']}\n",
            "time: 4.94 ms (started: 2021-04-11 14:20:55 +00:00)\n"
          ],
          "name": "stdout"
        }
      ]
    },
    {
      "cell_type": "markdown",
      "metadata": {
        "id": "CGbBuhYx58UK"
      },
      "source": [
        "### ***Tabular organizations_entity:***"
      ]
    },
    {
      "cell_type": "code",
      "metadata": {
        "colab": {
          "base_uri": "https://localhost:8080/"
        },
        "id": "wHYa_Q-HU-bT",
        "outputId": "32375c55-7277-4b4a-d761-41f71e68efac"
      },
      "source": [
        "organizations_entity = []\n",
        "for ent in docx.ents:\n",
        "    if ent.label_ == 'ORG':\n",
        "        organizations_entity.append(ent.text)\n",
        "        \n",
        "organizations_counts = Counter(organizations_entity).most_common()\n",
        "df_org = DataFrame(organizations_counts, columns = ['text', 'count'])\n",
        "print(df_org)"
      ],
      "execution_count": 35,
      "outputs": [
        {
          "output_type": "stream",
          "text": [
            "    text  count\n",
            "0  'ltd'      7\n",
            "1    sec      6\n",
            "2   basf      5\n",
            "3    nsw      4\n",
            "4   ssys      3\n",
            "5    asa      2\n",
            "time: 29.5 ms (started: 2021-04-11 14:26:36 +00:00)\n"
          ],
          "name": "stdout"
        }
      ]
    },
    {
      "cell_type": "code",
      "metadata": {
        "colab": {
          "base_uri": "https://localhost:8080/"
        },
        "id": "mKyiLIwVMa7y",
        "outputId": "4152396b-c4fc-4f6d-fe30-d5d3c10422a2"
      },
      "source": [
        "# json string\n",
        "df_org.to_json(orient='table', index=False)\n",
        "print()\n",
        "# number of times org appeared in news article\n",
        "yy = df_org.groupby('count')['text'].apply(list).to_dict()\n",
        "print (yy)"
      ],
      "execution_count": 36,
      "outputs": [
        {
          "output_type": "stream",
          "text": [
            "\n",
            "{2: ['asa'], 3: ['ssys'], 4: ['nsw'], 5: ['basf'], 6: ['sec'], 7: [\"'ltd'\"]}\n",
            "time: 18.6 ms (started: 2021-04-11 14:26:41 +00:00)\n"
          ],
          "name": "stdout"
        }
      ]
    },
    {
      "cell_type": "markdown",
      "metadata": {
        "id": "7ySqNVz64M6q"
      },
      "source": [
        "***Now that I have tested, I need to create training data as per sPacy nlp format do can train a model and test on hold out testD (test data).***"
      ]
    },
    {
      "cell_type": "code",
      "metadata": {
        "colab": {
          "base_uri": "https://localhost:8080/",
          "height": 178
        },
        "id": "fGOmph03IbXC",
        "outputId": "3a211b9c-e1da-4dc6-fb29-189cf8335ac9"
      },
      "source": [
        "pre_process.head(1)"
      ],
      "execution_count": 37,
      "outputs": [
        {
          "output_type": "execute_result",
          "data": {
            "text/html": [
              "<div>\n",
              "<style scoped>\n",
              "    .dataframe tbody tr th:only-of-type {\n",
              "        vertical-align: middle;\n",
              "    }\n",
              "\n",
              "    .dataframe tbody tr th {\n",
              "        vertical-align: top;\n",
              "    }\n",
              "\n",
              "    .dataframe thead th {\n",
              "        text-align: right;\n",
              "    }\n",
              "</style>\n",
              "<table border=\"1\" class=\"dataframe\">\n",
              "  <thead>\n",
              "    <tr style=\"text-align: right;\">\n",
              "      <th></th>\n",
              "      <th>date_of_news</th>\n",
              "      <th>title</th>\n",
              "      <th>hyperlink</th>\n",
              "      <th>article</th>\n",
              "    </tr>\n",
              "  </thead>\n",
              "  <tbody>\n",
              "    <tr>\n",
              "      <th>0</th>\n",
              "      <td>09 September 2020</td>\n",
              "      <td>BASF brings the farm to customers with launch ...</td>\n",
              "      <td>https://www.basf.com/sg/en/media/news-releases...</td>\n",
              "      <td>[cookie, help, deliver, service, service, agre...</td>\n",
              "    </tr>\n",
              "  </tbody>\n",
              "</table>\n",
              "</div>"
            ],
            "text/plain": [
              "        date_of_news  ...                                            article\n",
              "0  09 September 2020  ...  [cookie, help, deliver, service, service, agre...\n",
              "\n",
              "[1 rows x 4 columns]"
            ]
          },
          "metadata": {
            "tags": []
          },
          "execution_count": 37
        },
        {
          "output_type": "stream",
          "text": [
            "time: 27.6 ms (started: 2021-04-11 14:27:02 +00:00)\n"
          ],
          "name": "stdout"
        }
      ]
    },
    {
      "cell_type": "markdown",
      "metadata": {
        "id": "EojeSnzOPyub"
      },
      "source": [
        "## ***BELOW CODE BLOCK (TO GENERATE TRAINING SET) IS NOT TESTED YET***"
      ]
    },
    {
      "cell_type": "code",
      "metadata": {
        "colab": {
          "base_uri": "https://localhost:8080/",
          "height": 291
        },
        "id": "I5d-VkN7IRZB",
        "outputId": "69d2b466-8b6c-4ca6-ce10-3ed93956314b"
      },
      "source": [
        "article_groups = pre_process.groupby(by='date_of_news')\n",
        "article_groups.get_group('09 September 2020')"
      ],
      "execution_count": 38,
      "outputs": [
        {
          "output_type": "execute_result",
          "data": {
            "text/html": [
              "<div>\n",
              "<style scoped>\n",
              "    .dataframe tbody tr th:only-of-type {\n",
              "        vertical-align: middle;\n",
              "    }\n",
              "\n",
              "    .dataframe tbody tr th {\n",
              "        vertical-align: top;\n",
              "    }\n",
              "\n",
              "    .dataframe thead th {\n",
              "        text-align: right;\n",
              "    }\n",
              "</style>\n",
              "<table border=\"1\" class=\"dataframe\">\n",
              "  <thead>\n",
              "    <tr style=\"text-align: right;\">\n",
              "      <th></th>\n",
              "      <th>date_of_news</th>\n",
              "      <th>title</th>\n",
              "      <th>hyperlink</th>\n",
              "      <th>article</th>\n",
              "    </tr>\n",
              "  </thead>\n",
              "  <tbody>\n",
              "    <tr>\n",
              "      <th>0</th>\n",
              "      <td>09 September 2020</td>\n",
              "      <td>BASF brings the farm to customers with launch ...</td>\n",
              "      <td>https://www.basf.com/sg/en/media/news-releases...</td>\n",
              "      <td>[cookie, help, deliver, service, service, agre...</td>\n",
              "    </tr>\n",
              "    <tr>\n",
              "      <th>158</th>\n",
              "      <td>09 September 2020</td>\n",
              "      <td>BASF brings the farm to customers with launch ...</td>\n",
              "      <td>https://www.basf.com/sg/en/media/news-releases...</td>\n",
              "      <td>[cookie, help, deliver, service, service, agre...</td>\n",
              "    </tr>\n",
              "  </tbody>\n",
              "</table>\n",
              "</div>"
            ],
            "text/plain": [
              "          date_of_news  ...                                            article\n",
              "0    09 September 2020  ...  [cookie, help, deliver, service, service, agre...\n",
              "158  09 September 2020  ...  [cookie, help, deliver, service, service, agre...\n",
              "\n",
              "[2 rows x 4 columns]"
            ]
          },
          "metadata": {
            "tags": []
          },
          "execution_count": 38
        },
        {
          "output_type": "stream",
          "text": [
            "time: 64 ms (started: 2021-04-11 14:27:27 +00:00)\n"
          ],
          "name": "stdout"
        }
      ]
    },
    {
      "cell_type": "markdown",
      "metadata": {
        "id": "dIELentqTQvt"
      },
      "source": [
        "### ***Generating articles, word_tags from groups:***"
      ]
    },
    {
      "cell_type": "code",
      "metadata": {
        "id": "nFZYMOY2HG_l"
      },
      "source": [
        "# def generate_data():\n",
        "#   \n",
        "#    articles = []\n",
        "#    word_tags = []\n",
        "\n",
        "#    for group_index, group in enumerate(article_groups):\n",
        "#        key = float(group_index+1)\n",
        "#        try:\n",
        "#           article_df = article_groups.get_group(key)\n",
        "#        except KeyError:\n",
        "#            continue\n",
        "#        article_words = article_df['articles'].values\n",
        "#        article_word_tags = article_df['date_of_news', 'title', 'hyperlink'].values\n",
        "#        article.append(sentence_words)\n",
        "#        word_tags.append(article_word_tags)\n",
        "      \n",
        "#    return articles, word_tags\n",
        "    \n"
      ],
      "execution_count": null,
      "outputs": []
    },
    {
      "cell_type": "markdown",
      "metadata": {
        "id": "TNcz5NxuTcC0"
      },
      "source": [
        "### ***Generating tag offsets for words of sentence:***\n",
        "\n",
        "*****This is to transform sentences and assiciated entities into a format as required by sPacy nlp for model training. Here, I will train a CNNmodel.******"
      ]
    },
    {
      "cell_type": "code",
      "metadata": {
        "id": "fgkl6RXyHnGk"
      },
      "source": [
        "# def generate_sentence_offsets_tuple(articles, tags):\n",
        "#     \n",
        "#     offsets = []\n",
        "#     index = 0\n",
        "#     articles_str = \" \".join(articles)\n",
        "\n",
        "#     for word, biluo_tag in zip(articles, tags):\n",
        "#         if biluo_tag != 'O':            \n",
        "#             offsets.append((index, index+len(word), biluo_tag))\n",
        "#             #print(articles_str[index: index+len(word)])\n",
        "#         #print(word, index, index+len(word), biluo_tag, articles_str[index: index+len(word)])\n",
        "#         index = index+len(word)+1  \n",
        "#     return (articles_str, {'entities': offsets})\n"
      ],
      "execution_count": null,
      "outputs": []
    },
    {
      "cell_type": "code",
      "metadata": {
        "id": "mgovIAx5KSqu"
      },
      "source": [
        "# def train(model, training_data, n_epochs=100):\n",
        "#    if model is not None:\n",
        "#       nlp = spacy.load(model)  # load existing spaCy model\n",
        "#       print(\"Loaded model '%s'\" % model)\n",
        "#    else:\n",
        "#       nlp = spacy.blank(\"en\")  # create blank Language class\n",
        "#       print(\"Created blank 'en' model\")\n",
        "#       # create the built-in pipeline components and add them to the pipeline\n",
        "#       # nlp.create_pipe works for built-ins that are registered with spaCy\n",
        "#    if \"ner\" not in nlp.pipe_names:\n",
        "#       ner = nlp.create_pipe(\"ner\")\n",
        "#       nlp.add_pipe(ner, last=True)\n",
        "#   # otherwise, get it so we can add labels\n",
        "#    else:\n",
        "#      ner = nlp.get_pipe(\"ner\")\n",
        "\n",
        "#      # add labels\n",
        "#      for _, annotations in training_data:\n",
        "#        for ent in annotations.get(\"entities\"):\n",
        "#          ner.add_label(ent[2])\n",
        " \n",
        "#      # get names of other pipes to disable them during training\n",
        "#      other_pipes = [pipe for pipe in nlp.pipe_names if pipe != \"ner\"]\n",
        "   \n",
        "#    with nlp.disable_pipes(*other_pipes):\n",
        "#       # only train NER\n",
        "#       # reset and initialize the weights randomly – but only if we're\n",
        "#       # training a new model\n",
        "#       if model is None:\n",
        "#           nlp.begin_training()\n",
        "#       for itn in range(n_epochs):\n",
        "#         random.shuffle(training_data)\n",
        "#         losses = {}\n",
        "#         # batch up the examples using spaCy's minibatch\n",
        "#         batches = minibatch(training_data, size=compounding(4.0, 32.0, 1.001))\n",
        "#         for batch in batches:\n",
        "#           texts, annotations = zip(*batch)\n",
        "#           nlp.update(\n",
        "#               texts,  # batch of texts\n",
        "#               annotations,  # batch of annotations\n",
        "#               drop=0.2,  # dropout - make it harder to memorise data\n",
        "#               losses=losses,\n",
        "#               )\n",
        "#           print(\"epoch: {} Losses: {}\".format(itn, str(losses)))\n",
        "#    return nlp\n"
      ],
      "execution_count": null,
      "outputs": []
    },
    {
      "cell_type": "code",
      "metadata": {
        "id": "d_uU41vgMXH8"
      },
      "source": [
        "\n",
        "# def evaluate_model(pretrained_model, test_data):\n",
        "#  \n",
        "#   for test_instance in testD[4:10]:\n",
        "#     test_sentence, entities = test_instance        \n",
        "#     test_doc = pretrained_model(test_sentence)\n",
        "#     predicted_entities = [(ent.text, ent.label_) for ent in test_doc.ents]        \n",
        "#     original_entities = [(test_sentence[int(original_entity[0]): int(original_entity[1])], original_entity[2]) for original_entity in entities['entities']]\n",
        "#     print(\"\\n--->\" + test_sentence)\n",
        "#     print('predicted entities', predicted_entities)        \n",
        "#     print('original entities', original_entities)\n"
      ],
      "execution_count": null,
      "outputs": []
    }
  ]
}